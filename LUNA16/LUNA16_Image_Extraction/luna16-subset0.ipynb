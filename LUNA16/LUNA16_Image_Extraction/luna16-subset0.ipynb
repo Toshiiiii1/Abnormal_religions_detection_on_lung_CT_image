{
 "cells": [
  {
   "cell_type": "code",
   "execution_count": 4,
   "metadata": {
    "_cell_guid": "b1076dfc-b9ad-4769-8c92-a6c4dae69d19",
    "_uuid": "8f2839f25d086af736a60e9eeb907d3b93b6e0e5",
    "execution": {
     "iopub.execute_input": "2024-11-03T07:21:18.500511Z",
     "iopub.status.busy": "2024-11-03T07:21:18.500047Z",
     "iopub.status.idle": "2024-11-03T07:26:39.189337Z",
     "shell.execute_reply": "2024-11-03T07:26:39.186780Z",
     "shell.execute_reply.started": "2024-11-03T07:21:18.500466Z"
    },
    "trusted": true
   },
   "outputs": [
    {
     "name": "stdout",
     "output_type": "stream",
     "text": [
      "--2024-11-03 07:21:19--  https://zenodo.org/records/3723295/files/subset0.zip\n",
      "Resolving zenodo.org (zenodo.org)... 188.185.79.172, 188.184.98.238, 188.184.103.159, ...\n",
      "Connecting to zenodo.org (zenodo.org)|188.185.79.172|:443... connected.\n",
      "HTTP request sent, awaiting response... 200 OK\n",
      "Length: 6811924508 (6.3G) [application/octet-stream]\n",
      "Saving to: 'subset0.zip'\n",
      "\n",
      "subset0.zip         100%[===================>]   6.34G  20.7MB/s    in 5m 19s  \n",
      "\n",
      "2024-11-03 07:26:39 (20.4 MB/s) - 'subset0.zip' saved [6811924508/6811924508]\n",
      "\n"
     ]
    }
   ],
   "source": [
    "!wget https://zenodo.org/records/3723295/files/subset0.zip"
   ]
  },
  {
   "cell_type": "code",
   "execution_count": 10,
   "metadata": {
    "execution": {
     "iopub.execute_input": "2024-11-03T07:32:26.600791Z",
     "iopub.status.busy": "2024-11-03T07:32:26.600296Z",
     "iopub.status.idle": "2024-11-03T07:32:29.096045Z",
     "shell.execute_reply": "2024-11-03T07:32:29.094397Z",
     "shell.execute_reply.started": "2024-11-03T07:32:26.600745Z"
    },
    "trusted": true
   },
   "outputs": [
    {
     "name": "stdout",
     "output_type": "stream",
     "text": [
      "--2024-11-03 07:32:27--  https://zenodo.org/records/3723295/files/annotations.csv\n",
      "Resolving zenodo.org (zenodo.org)... 188.184.98.238, 188.184.103.159, 188.185.79.172, ...\n",
      "Connecting to zenodo.org (zenodo.org)|188.184.98.238|:443... connected.\n",
      "HTTP request sent, awaiting response... 200 OK\n",
      "Length: 136986 (134K) [text/plain]\n",
      "Saving to: 'annotations.csv'\n",
      "\n",
      "annotations.csv     100%[===================>] 133.78K   280KB/s    in 0.5s    \n",
      "\n",
      "2024-11-03 07:32:28 (280 KB/s) - 'annotations.csv' saved [136986/136986]\n",
      "\n"
     ]
    }
   ],
   "source": [
    "!wget https://zenodo.org/records/3723295/files/annotations.csv"
   ]
  },
  {
   "cell_type": "code",
   "execution_count": 5,
   "metadata": {
    "execution": {
     "iopub.execute_input": "2024-11-03T07:27:02.770414Z",
     "iopub.status.busy": "2024-11-03T07:27:02.769739Z",
     "iopub.status.idle": "2024-11-03T07:29:42.359960Z",
     "shell.execute_reply": "2024-11-03T07:29:42.358179Z",
     "shell.execute_reply.started": "2024-11-03T07:27:02.770357Z"
    },
    "trusted": true
   },
   "outputs": [],
   "source": [
    "!unzip -q /kaggle/working/subset0.zip -d /kaggle/working/"
   ]
  },
  {
   "cell_type": "code",
   "execution_count": 13,
   "metadata": {
    "execution": {
     "iopub.execute_input": "2024-11-03T07:37:35.678570Z",
     "iopub.status.busy": "2024-11-03T07:37:35.678059Z",
     "iopub.status.idle": "2024-11-03T07:37:37.055160Z",
     "shell.execute_reply": "2024-11-03T07:37:37.053571Z",
     "shell.execute_reply.started": "2024-11-03T07:37:35.678522Z"
    },
    "trusted": true
   },
   "outputs": [],
   "source": [
    "!rm subset0.zip"
   ]
  },
  {
   "cell_type": "code",
   "execution_count": 6,
   "metadata": {
    "execution": {
     "iopub.execute_input": "2024-11-03T07:29:50.369158Z",
     "iopub.status.busy": "2024-11-03T07:29:50.368532Z",
     "iopub.status.idle": "2024-11-03T07:29:52.012062Z",
     "shell.execute_reply": "2024-11-03T07:29:52.011020Z",
     "shell.execute_reply.started": "2024-11-03T07:29:50.369096Z"
    },
    "trusted": true
   },
   "outputs": [],
   "source": [
    "import SimpleITK as sitk\n",
    "import numpy as np\n",
    "import csv\n",
    "from glob import glob\n",
    "import pandas as pd\n",
    "import os\n",
    "from tqdm import tqdm\n",
    "import matplotlib.pyplot as plt\n",
    "import cv2"
   ]
  },
  {
   "cell_type": "code",
   "execution_count": 17,
   "metadata": {
    "execution": {
     "iopub.execute_input": "2024-11-03T07:43:12.882832Z",
     "iopub.status.busy": "2024-11-03T07:43:12.882330Z",
     "iopub.status.idle": "2024-11-03T07:43:12.889676Z",
     "shell.execute_reply": "2024-11-03T07:43:12.888450Z",
     "shell.execute_reply.started": "2024-11-03T07:43:12.882786Z"
    },
    "trusted": true
   },
   "outputs": [],
   "source": [
    "# LUNA_mask_extraction.py\n",
    "subset = \"subset0\"\n",
    "file_list = os.listdir(f\"/kaggle/working//{subset}\")\n",
    "file_list = list(map(lambda file : f\"/kaggle/working/{subset}/\" + file, file_list))"
   ]
  },
  {
   "cell_type": "code",
   "execution_count": 23,
   "metadata": {
    "execution": {
     "iopub.execute_input": "2024-11-03T07:48:55.607542Z",
     "iopub.status.busy": "2024-11-03T07:48:55.606443Z",
     "iopub.status.idle": "2024-11-03T07:48:55.614847Z",
     "shell.execute_reply": "2024-11-03T07:48:55.613651Z",
     "shell.execute_reply.started": "2024-11-03T07:48:55.607481Z"
    },
    "trusted": true
   },
   "outputs": [
    {
     "name": "stdout",
     "output_type": "stream",
     "text": [
      "['/kaggle/working/subset0/1.3.6.1.4.1.14519.5.2.1.6279.6001.227962600322799211676960828223.mhd', '/kaggle/working/subset0/1.3.6.1.4.1.14519.5.2.1.6279.6001.126264578931778258890371755354.mhd', '/kaggle/working/subset0/1.3.6.1.4.1.14519.5.2.1.6279.6001.311981398931043315779172047718.mhd', '/kaggle/working/subset0/1.3.6.1.4.1.14519.5.2.1.6279.6001.975254950136384517744116790879.mhd', '/kaggle/working/subset0/1.3.6.1.4.1.14519.5.2.1.6279.6001.898642529028521482602829374444.mhd', '/kaggle/working/subset0/1.3.6.1.4.1.14519.5.2.1.6279.6001.269689294231892620436462818860.mhd', '/kaggle/working/subset0/1.3.6.1.4.1.14519.5.2.1.6279.6001.534006575256943390479252771547.mhd', '/kaggle/working/subset0/1.3.6.1.4.1.14519.5.2.1.6279.6001.134996872583497382954024478441.mhd', '/kaggle/working/subset0/1.3.6.1.4.1.14519.5.2.1.6279.6001.202811684116768680758082619196.mhd', '/kaggle/working/subset0/1.3.6.1.4.1.14519.5.2.1.6279.6001.716498695101447665580610403574.mhd', '/kaggle/working/subset0/1.3.6.1.4.1.14519.5.2.1.6279.6001.313334055029671473836954456733.mhd', '/kaggle/working/subset0/1.3.6.1.4.1.14519.5.2.1.6279.6001.194465340552956447447896167830.mhd', '/kaggle/working/subset0/1.3.6.1.4.1.14519.5.2.1.6279.6001.310548927038333190233889983845.mhd', '/kaggle/working/subset0/1.3.6.1.4.1.14519.5.2.1.6279.6001.213140617640021803112060161074.mhd', '/kaggle/working/subset0/1.3.6.1.4.1.14519.5.2.1.6279.6001.109002525524522225658609808059.mhd', '/kaggle/working/subset0/1.3.6.1.4.1.14519.5.2.1.6279.6001.278660284797073139172446973682.mhd', '/kaggle/working/subset0/1.3.6.1.4.1.14519.5.2.1.6279.6001.868211851413924881662621747734.mhd', '/kaggle/working/subset0/1.3.6.1.4.1.14519.5.2.1.6279.6001.450501966058662668272378865145.mhd', '/kaggle/working/subset0/1.3.6.1.4.1.14519.5.2.1.6279.6001.138080888843357047811238713686.mhd', '/kaggle/working/subset0/1.3.6.1.4.1.14519.5.2.1.6279.6001.130438550890816550994739120843.mhd', '/kaggle/working/subset0/1.3.6.1.4.1.14519.5.2.1.6279.6001.219087313261026510628926082729.mhd', '/kaggle/working/subset0/1.3.6.1.4.1.14519.5.2.1.6279.6001.188376349804761988217597754952.mhd', '/kaggle/working/subset0/1.3.6.1.4.1.14519.5.2.1.6279.6001.238522526736091851696274044574.mhd', '/kaggle/working/subset0/1.3.6.1.4.1.14519.5.2.1.6279.6001.303421828981831854739626597495.mhd', '/kaggle/working/subset0/1.3.6.1.4.1.14519.5.2.1.6279.6001.832260670372728970918746541371.mhd', '/kaggle/working/subset0/1.3.6.1.4.1.14519.5.2.1.6279.6001.293757615532132808762625441831.mhd', '/kaggle/working/subset0/1.3.6.1.4.1.14519.5.2.1.6279.6001.154677396354641150280013275227.mhd', '/kaggle/working/subset0/1.3.6.1.4.1.14519.5.2.1.6279.6001.194440094986948071643661798326.mhd', '/kaggle/working/subset0/1.3.6.1.4.1.14519.5.2.1.6279.6001.129055977637338639741695800950.mhd', '/kaggle/working/subset0/1.3.6.1.4.1.14519.5.2.1.6279.6001.657775098760536289051744981056.mhd', '/kaggle/working/subset0/1.3.6.1.4.1.14519.5.2.1.6279.6001.122763913896761494371822656720.mhd', '/kaggle/working/subset0/1.3.6.1.4.1.14519.5.2.1.6279.6001.430109407146633213496148200410.mhd', '/kaggle/working/subset0/1.3.6.1.4.1.14519.5.2.1.6279.6001.534083630500464995109143618896.mhd', '/kaggle/working/subset0/1.3.6.1.4.1.14519.5.2.1.6279.6001.640729228179368154416184318668.mhd', '/kaggle/working/subset0/1.3.6.1.4.1.14519.5.2.1.6279.6001.231645134739451754302647733304.mhd', '/kaggle/working/subset0/1.3.6.1.4.1.14519.5.2.1.6279.6001.979083010707182900091062408058.mhd', '/kaggle/working/subset0/1.3.6.1.4.1.14519.5.2.1.6279.6001.805925269324902055566754756843.mhd', '/kaggle/working/subset0/1.3.6.1.4.1.14519.5.2.1.6279.6001.250863365157630276148828903732.mhd', '/kaggle/working/subset0/1.3.6.1.4.1.14519.5.2.1.6279.6001.249530219848512542668813996730.mhd', '/kaggle/working/subset0/1.3.6.1.4.1.14519.5.2.1.6279.6001.216882370221919561230873289517.mhd', '/kaggle/working/subset0/1.3.6.1.4.1.14519.5.2.1.6279.6001.277445975068759205899107114231.mhd', '/kaggle/working/subset0/1.3.6.1.4.1.14519.5.2.1.6279.6001.511347030803753100045216493273.mhd', '/kaggle/working/subset0/1.3.6.1.4.1.14519.5.2.1.6279.6001.108197895896446896160048741492.mhd', '/kaggle/working/subset0/1.3.6.1.4.1.14519.5.2.1.6279.6001.564534197011295112247542153557.mhd', '/kaggle/working/subset0/1.3.6.1.4.1.14519.5.2.1.6279.6001.397062004302272014259317520874.mhd', '/kaggle/working/subset0/1.3.6.1.4.1.14519.5.2.1.6279.6001.395623571499047043765181005112.mhd', '/kaggle/working/subset0/1.3.6.1.4.1.14519.5.2.1.6279.6001.752756872840730509471096155114.mhd', '/kaggle/working/subset0/1.3.6.1.4.1.14519.5.2.1.6279.6001.313605260055394498989743099991.mhd', '/kaggle/working/subset0/1.3.6.1.4.1.14519.5.2.1.6279.6001.295420274214095686326263147663.mhd', '/kaggle/working/subset0/1.3.6.1.4.1.14519.5.2.1.6279.6001.137763212752154081977261297097.mhd', '/kaggle/working/subset0/1.3.6.1.4.1.14519.5.2.1.6279.6001.272042302501586336192628818865.mhd', '/kaggle/working/subset0/1.3.6.1.4.1.14519.5.2.1.6279.6001.126121460017257137098781143514.mhd', '/kaggle/working/subset0/1.3.6.1.4.1.14519.5.2.1.6279.6001.302134342469412607966016057827.mhd', '/kaggle/working/subset0/1.3.6.1.4.1.14519.5.2.1.6279.6001.141069661700670042960678408762.mhd', '/kaggle/working/subset0/1.3.6.1.4.1.14519.5.2.1.6279.6001.146429221666426688999739595820.mhd', '/kaggle/working/subset0/1.3.6.1.4.1.14519.5.2.1.6279.6001.323859712968543712594665815359.mhd', '/kaggle/working/subset0/1.3.6.1.4.1.14519.5.2.1.6279.6001.124154461048929153767743874565.mhd', '/kaggle/working/subset0/1.3.6.1.4.1.14519.5.2.1.6279.6001.210837812047373739447725050963.mhd', '/kaggle/working/subset0/1.3.6.1.4.1.14519.5.2.1.6279.6001.417815314896088956784723476543.mhd', '/kaggle/working/subset0/1.3.6.1.4.1.14519.5.2.1.6279.6001.310626494937915759224334597176.mhd', '/kaggle/working/subset0/1.3.6.1.4.1.14519.5.2.1.6279.6001.139258777898746693365877042411.mhd', '/kaggle/working/subset0/1.3.6.1.4.1.14519.5.2.1.6279.6001.295298571102631191572192562523.mhd', '/kaggle/working/subset0/1.3.6.1.4.1.14519.5.2.1.6279.6001.305858704835252413616501469037.mhd', '/kaggle/working/subset0/1.3.6.1.4.1.14519.5.2.1.6279.6001.219909753224298157409438012179.mhd', '/kaggle/working/subset0/1.3.6.1.4.1.14519.5.2.1.6279.6001.333145094436144085379032922488.mhd', '/kaggle/working/subset0/1.3.6.1.4.1.14519.5.2.1.6279.6001.826812708000318290301835871780.mhd', '/kaggle/working/subset0/1.3.6.1.4.1.14519.5.2.1.6279.6001.281489753704424911132261151767.mhd', '/kaggle/working/subset0/1.3.6.1.4.1.14519.5.2.1.6279.6001.525937963993475482158828421281.mhd', '/kaggle/working/subset0/1.3.6.1.4.1.14519.5.2.1.6279.6001.280972147860943609388015648430.mhd', '/kaggle/working/subset0/1.3.6.1.4.1.14519.5.2.1.6279.6001.188209889686363159853715266493.mhd', '/kaggle/working/subset0/1.3.6.1.4.1.14519.5.2.1.6279.6001.144438612068946916340281098509.mhd', '/kaggle/working/subset0/1.3.6.1.4.1.14519.5.2.1.6279.6001.317087518531899043292346860596.mhd', '/kaggle/working/subset0/1.3.6.1.4.1.14519.5.2.1.6279.6001.294188507421106424248264912111.mhd', '/kaggle/working/subset0/1.3.6.1.4.1.14519.5.2.1.6279.6001.404364125369979066736354549484.mhd', '/kaggle/working/subset0/1.3.6.1.4.1.14519.5.2.1.6279.6001.332453873575389860371315979768.mhd', '/kaggle/working/subset0/1.3.6.1.4.1.14519.5.2.1.6279.6001.313835996725364342034830119490.mhd', '/kaggle/working/subset0/1.3.6.1.4.1.14519.5.2.1.6279.6001.250438451287314206124484591986.mhd', '/kaggle/working/subset0/1.3.6.1.4.1.14519.5.2.1.6279.6001.323302986710576400812869264321.mhd', '/kaggle/working/subset0/1.3.6.1.4.1.14519.5.2.1.6279.6001.621916089407825046337959219998.mhd', '/kaggle/working/subset0/1.3.6.1.4.1.14519.5.2.1.6279.6001.566816709786169715745131047975.mhd', '/kaggle/working/subset0/1.3.6.1.4.1.14519.5.2.1.6279.6001.105756658031515062000744821260.mhd', '/kaggle/working/subset0/1.3.6.1.4.1.14519.5.2.1.6279.6001.724251104254976962355686318345.mhd', '/kaggle/working/subset0/1.3.6.1.4.1.14519.5.2.1.6279.6001.187451715205085403623595258748.mhd', '/kaggle/working/subset0/1.3.6.1.4.1.14519.5.2.1.6279.6001.128023902651233986592378348912.mhd', '/kaggle/working/subset0/1.3.6.1.4.1.14519.5.2.1.6279.6001.905371958588660410240398317235.mhd', '/kaggle/working/subset0/1.3.6.1.4.1.14519.5.2.1.6279.6001.334517907433161353885866806005.mhd', '/kaggle/working/subset0/1.3.6.1.4.1.14519.5.2.1.6279.6001.241570579760883349458693655367.mhd', '/kaggle/working/subset0/1.3.6.1.4.1.14519.5.2.1.6279.6001.111172165674661221381920536987.mhd', '/kaggle/working/subset0/1.3.6.1.4.1.14519.5.2.1.6279.6001.139713436241461669335487719526.mhd']\n"
     ]
    }
   ],
   "source": [
    "def myFunc(file):\n",
    "  if file.endswith(\".mhd\"):\n",
    "    return True\n",
    "  else:\n",
    "    return False\n",
    "\n",
    "file_list = list(filter(myFunc, file_list))\n",
    "print(file_list)"
   ]
  },
  {
   "cell_type": "code",
   "execution_count": 14,
   "metadata": {
    "execution": {
     "iopub.execute_input": "2024-11-03T07:39:57.000944Z",
     "iopub.status.busy": "2024-11-03T07:39:57.000182Z",
     "iopub.status.idle": "2024-11-03T07:39:58.163179Z",
     "shell.execute_reply": "2024-11-03T07:39:58.161716Z",
     "shell.execute_reply.started": "2024-11-03T07:39:57.000888Z"
    },
    "trusted": true
   },
   "outputs": [],
   "source": [
    "!mkdir ct_images"
   ]
  },
  {
   "cell_type": "code",
   "execution_count": 9,
   "metadata": {
    "execution": {
     "iopub.execute_input": "2024-11-03T07:31:51.191681Z",
     "iopub.status.busy": "2024-11-03T07:31:51.191176Z",
     "iopub.status.idle": "2024-11-03T07:31:51.207112Z",
     "shell.execute_reply": "2024-11-03T07:31:51.205765Z",
     "shell.execute_reply.started": "2024-11-03T07:31:51.191629Z"
    },
    "trusted": true
   },
   "outputs": [],
   "source": [
    "def make_mask(center, diam, z, width, height, spacing, origin):\n",
    "    '''\n",
    "        Center : centers of circles px -- list of coordinates x,y,z\n",
    "        diam : diameters of circles px -- diameter\n",
    "        widthXheight : pixel dim of image\n",
    "        spacing = mm/px conversion rate np array x,y,z\n",
    "        origin = x,y,z mm np.array\n",
    "        z = z position of slice in world coordinates mm\n",
    "    '''\n",
    "    mask = np.zeros([height, width]) # 0's everywhere except nodule swapping x,y to match img\n",
    "    #convert to nodule space from world coordinates\n",
    "\n",
    "    # Defining the voxel range in which the nodule falls\n",
    "    v_center = (center - origin)/spacing\n",
    "    v_diam = int(diam/spacing[0] + 1)\n",
    "    v_xmin = np.max([0, int(v_center[0]-v_diam/2) - 2])\n",
    "    v_xmax = np.min([width-1, int(v_center[0]+v_diam/2) + 2])\n",
    "    v_ymin = np.max([0, int(v_center[1]-v_diam/2) - 2]) \n",
    "    v_ymax = np.min([height-1, int(v_center[1]+v_diam/2) + 2])\n",
    "\n",
    "    v_xrange = range(v_xmin, v_xmax+1)\n",
    "    v_yrange = range(v_ymin, v_ymax+1)\n",
    "\n",
    "    # Fill in 1 within sphere around nodule\n",
    "    for v_x in v_xrange:\n",
    "        for v_y in v_yrange:\n",
    "            p_x = spacing[0]*v_x + origin[0]\n",
    "            p_y = spacing[1]*v_y + origin[1]\n",
    "            if np.linalg.norm(center - np.array([p_x, p_y, z])) <= diam:\n",
    "                mask[int((p_y-origin[1]) / spacing[1]), int((p_x-origin[0]) / spacing[0])] = 1.0\n",
    "    return(mask, [v_xmin, v_xmax, v_ymin, v_ymax])\n",
    "\n",
    "def get_filename(case):\n",
    "    global file_list\n",
    "    for f in file_list:\n",
    "        if case in f:\n",
    "            return(f)\n",
    "        \n",
    "def normalize(image):\n",
    "    MIN_BOUND = -1000.0\n",
    "    MAX_BOUND = 400.0\n",
    "    image = (image - MIN_BOUND) / (MAX_BOUND - MIN_BOUND)\n",
    "    image[image>1] = 1.\n",
    "    image[image<0] = 0.\n",
    "    return image"
   ]
  },
  {
   "cell_type": "code",
   "execution_count": 24,
   "metadata": {
    "execution": {
     "iopub.execute_input": "2024-11-03T07:49:07.574955Z",
     "iopub.status.busy": "2024-11-03T07:49:07.574202Z",
     "iopub.status.idle": "2024-11-03T07:51:35.335356Z",
     "shell.execute_reply": "2024-11-03T07:51:35.333897Z",
     "shell.execute_reply.started": "2024-11-03T07:49:07.574896Z"
    },
    "trusted": true
   },
   "outputs": [
    {
     "name": "stdout",
     "output_type": "stream",
     "text": [
      "TRÍCH XUẤT ẢNH VÀ TỌA ĐỘ TỪ FILE .raw VÀ FILE .mhd TỪ subset0\n"
     ]
    },
    {
     "name": "stderr",
     "output_type": "stream",
     "text": [
      "100%|██████████| 89/89 [02:27<00:00,  1.66s/it]\n"
     ]
    }
   ],
   "source": [
    "if __name__ == \"__main__\":\n",
    "    df_node = pd.read_csv(\"/kaggle/working/annotations.csv\")\n",
    "    df_node[\"file\"] = df_node[\"seriesuid\"].apply(get_filename)\n",
    "    df_node = df_node.dropna()\n",
    "    # Define the file name\n",
    "    file_name = 'output.csv'\n",
    "\n",
    "    # Define the column names\n",
    "    columns = ['x_min', 'x_max', 'y_min', 'y_max', 'ID']\n",
    "\n",
    "    # Create an empty CSV file with column headers\n",
    "    with open(file_name, mode='w', newline='') as file:\n",
    "        writer = csv.DictWriter(file, fieldnames=columns)\n",
    "        writer.writeheader()\n",
    "    df_roi = pd.read_csv(\"output.csv\")\n",
    "    df_roi_cur = dict()\n",
    "    \n",
    "    print(f\"TRÍCH XUẤT ẢNH VÀ TỌA ĐỘ TỪ FILE .raw VÀ FILE .mhd TỪ {subset}\")\n",
    "    for fcount, img_file in enumerate(tqdm(file_list)):\n",
    "        mini_df = df_node[df_node[\"file\"]==img_file] # get all nodules associate with file\n",
    "        if len(mini_df) > 0:       # some files may not have a nodule--skipping those\n",
    "            itk_img = sitk.ReadImage(img_file) # read .mhd file\n",
    "            img_array = sitk.GetArrayFromImage(itk_img) # indexes are z,y,x (notice the ordering)\n",
    "            num_z, height, width = img_array.shape\n",
    "            origin = np.array(itk_img.GetOrigin())      # x,y,z  Origin in world coordinates (mm)\n",
    "            spacing = np.array(itk_img.GetSpacing())    # spacing of voxels in world coor. (mm)\n",
    "            \n",
    "            for node_idx, cur_row in mini_df.iterrows():       \n",
    "                node_x = cur_row[\"coordX\"]\n",
    "                node_y = cur_row[\"coordY\"]\n",
    "                node_z = cur_row[\"coordZ\"]\n",
    "                diam = cur_row[\"diameter_mm\"]\n",
    "                \n",
    "                # imgs = np.ndarray([num_z, height, width], dtype=np.float16)\n",
    "                center = np.array([node_x, node_y, node_z])   # nodule center\n",
    "                v_center = np.rint((center-origin)/spacing)  # nodule center in voxel space (still x,y,z ordering)\n",
    "            \n",
    "                for i_z in range(0, num_z): # clip prevents going out of bounds in Z\n",
    "                    _, roi = make_mask(center, diam, i_z*spacing[2]+origin[2], width, height, spacing, origin)\n",
    "                    if i_z == v_center[2]:\n",
    "                        roi_key = f\"{img_file.split('/')[-1].rsplit('.', 1)[0]}_{i_z}_{node_idx}\"\n",
    "                        img_name = f\"{img_file.split('/')[-1].rsplit('.', 1)[0]}_{i_z}_{node_idx}.png\"\n",
    "                        img = normalize(img_array[i_z])\n",
    "                        img = img * 255\n",
    "                        img_rgb = np.stack((img,)*3, -1)\n",
    "                        cv2.imwrite(f\"/kaggle/working/ct_images/{img_name}\", img_rgb)\n",
    "                        df_roi_cur.update({roi_key: roi})\n",
    "                    # imgs[i_z] = img_array[i_z]\n",
    "    df_temp = pd.DataFrame.from_dict(df_roi_cur, columns=[\"x_min\", \"x_max\", \"y_min\", \"y_max\"], orient='index')\n",
    "    df_temp[\"ID\"] = list(df_roi_cur.keys())\n",
    "    df_temp = df_temp.reset_index(drop=True)\n",
    "    df_roi = pd.concat([df_roi, df_temp])\n",
    "    df_roi.to_csv(\"output.csv\", index=False)"
   ]
  },
  {
   "cell_type": "code",
   "execution_count": 26,
   "metadata": {
    "execution": {
     "iopub.execute_input": "2024-11-03T07:56:36.689378Z",
     "iopub.status.busy": "2024-11-03T07:56:36.688574Z",
     "iopub.status.idle": "2024-11-03T07:56:40.570223Z",
     "shell.execute_reply": "2024-11-03T07:56:40.568683Z",
     "shell.execute_reply.started": "2024-11-03T07:56:36.689319Z"
    },
    "trusted": true
   },
   "outputs": [
    {
     "name": "stdout",
     "output_type": "stream",
     "text": [
      "  adding: kaggle/working/ct_images/ (stored 0%)\n",
      "  adding: kaggle/working/ct_images/1.3.6.1.4.1.14519.5.2.1.6279.6001.188376349804761988217597754952_90_348.png (deflated 20%)\n",
      "  adding: kaggle/working/ct_images/1.3.6.1.4.1.14519.5.2.1.6279.6001.188209889686363159853715266493_106_344.png (deflated 18%)\n",
      "  adding: kaggle/working/ct_images/1.3.6.1.4.1.14519.5.2.1.6279.6001.227962600322799211676960828223_179_536.png (deflated 20%)\n",
      "  adding: kaggle/working/ct_images/1.3.6.1.4.1.14519.5.2.1.6279.6001.295420274214095686326263147663_143_795.png (deflated 14%)\n",
      "  adding: kaggle/working/ct_images/1.3.6.1.4.1.14519.5.2.1.6279.6001.724251104254976962355686318345_97_1074.png (deflated 19%)\n",
      "  adding: kaggle/working/ct_images/1.3.6.1.4.1.14519.5.2.1.6279.6001.219087313261026510628926082729_48_491.png (deflated 19%)\n",
      "  adding: kaggle/working/ct_images/1.3.6.1.4.1.14519.5.2.1.6279.6001.294188507421106424248264912111_52_789.png (deflated 15%)\n",
      "  adding: kaggle/working/ct_images/1.3.6.1.4.1.14519.5.2.1.6279.6001.317087518531899043292346860596_215_882.png (deflated 19%)\n",
      "  adding: kaggle/working/ct_images/1.3.6.1.4.1.14519.5.2.1.6279.6001.430109407146633213496148200410_584_978.png (deflated 15%)\n",
      "  adding: kaggle/working/ct_images/1.3.6.1.4.1.14519.5.2.1.6279.6001.898642529028521482602829374444_66_1137.png (deflated 19%)\n",
      "  adding: kaggle/working/ct_images/1.3.6.1.4.1.14519.5.2.1.6279.6001.534006575256943390479252771547_421_1018.png (deflated 18%)\n",
      "  adding: kaggle/working/ct_images/1.3.6.1.4.1.14519.5.2.1.6279.6001.272042302501586336192628818865_214_705.png (deflated 20%)\n",
      "  adding: kaggle/working/ct_images/1.3.6.1.4.1.14519.5.2.1.6279.6001.404364125369979066736354549484_69_970.png (deflated 20%)\n",
      "  adding: kaggle/working/ct_images/1.3.6.1.4.1.14519.5.2.1.6279.6001.295420274214095686326263147663_129_796.png (deflated 14%)\n",
      "  adding: kaggle/working/ct_images/1.3.6.1.4.1.14519.5.2.1.6279.6001.868211851413924881662621747734_165_1124.png (deflated 20%)\n",
      "  adding: kaggle/working/ct_images/1.3.6.1.4.1.14519.5.2.1.6279.6001.277445975068759205899107114231_71_732.png (deflated 18%)\n",
      "  adding: kaggle/working/ct_images/1.3.6.1.4.1.14519.5.2.1.6279.6001.219909753224298157409438012179_108_507.png (deflated 20%)\n",
      "  adding: kaggle/working/ct_images/1.3.6.1.4.1.14519.5.2.1.6279.6001.832260670372728970918746541371_57_1116.png (deflated 16%)\n",
      "  adding: kaggle/working/ct_images/1.3.6.1.4.1.14519.5.2.1.6279.6001.534006575256943390479252771547_382_1017.png (deflated 18%)\n",
      "  adding: kaggle/working/ct_images/1.3.6.1.4.1.14519.5.2.1.6279.6001.128023902651233986592378348912_101_103.png (deflated 20%)\n",
      "  adding: kaggle/working/ct_images/1.3.6.1.4.1.14519.5.2.1.6279.6001.294188507421106424248264912111_72_791.png (deflated 17%)\n",
      "  adding: kaggle/working/ct_images/1.3.6.1.4.1.14519.5.2.1.6279.6001.139258777898746693365877042411_286_144.png (deflated 15%)\n",
      "  adding: kaggle/working/ct_images/1.3.6.1.4.1.14519.5.2.1.6279.6001.305858704835252413616501469037_43_838.png (deflated 20%)\n",
      "  adding: kaggle/working/ct_images/1.3.6.1.4.1.14519.5.2.1.6279.6001.310548927038333190233889983845_109_858.png (deflated 20%)\n",
      "  adding: kaggle/working/ct_images/1.3.6.1.4.1.14519.5.2.1.6279.6001.305858704835252413616501469037_55_839.png (deflated 20%)\n",
      "  adding: kaggle/working/ct_images/1.3.6.1.4.1.14519.5.2.1.6279.6001.219087313261026510628926082729_213_490.png (deflated 20%)\n",
      "  adding: kaggle/working/ct_images/1.3.6.1.4.1.14519.5.2.1.6279.6001.293757615532132808762625441831_278_784.png (deflated 17%)\n",
      "  adding: kaggle/working/ct_images/1.3.6.1.4.1.14519.5.2.1.6279.6001.250863365157630276148828903732_189_630.png (deflated 20%)\n",
      "  adding: kaggle/working/ct_images/1.3.6.1.4.1.14519.5.2.1.6279.6001.724251104254976962355686318345_269_1073.png (deflated 21%)\n",
      "  adding: kaggle/working/ct_images/1.3.6.1.4.1.14519.5.2.1.6279.6001.213140617640021803112060161074_199_454.png (deflated 19%)\n",
      "  adding: kaggle/working/ct_images/1.3.6.1.4.1.14519.5.2.1.6279.6001.450501966058662668272378865145_109_987.png (deflated 18%)\n",
      "  adding: kaggle/working/ct_images/1.3.6.1.4.1.14519.5.2.1.6279.6001.249530219848512542668813996730_130_621.png (deflated 20%)\n",
      "  adding: kaggle/working/ct_images/1.3.6.1.4.1.14519.5.2.1.6279.6001.334517907433161353885866806005_196_937.png (deflated 20%)\n",
      "  adding: kaggle/working/ct_images/1.3.6.1.4.1.14519.5.2.1.6279.6001.213140617640021803112060161074_103_455.png (deflated 18%)\n",
      "  adding: kaggle/working/ct_images/1.3.6.1.4.1.14519.5.2.1.6279.6001.430109407146633213496148200410_663_980.png (deflated 14%)\n",
      "  adding: kaggle/working/ct_images/1.3.6.1.4.1.14519.5.2.1.6279.6001.249530219848512542668813996730_246_620.png (deflated 20%)\n",
      "  adding: kaggle/working/ct_images/1.3.6.1.4.1.14519.5.2.1.6279.6001.134996872583497382954024478441_101_129.png (deflated 19%)\n",
      "  adding: kaggle/working/ct_images/1.3.6.1.4.1.14519.5.2.1.6279.6001.111172165674661221381920536987_187_28.png (deflated 18%)\n",
      "  adding: kaggle/working/ct_images/1.3.6.1.4.1.14519.5.2.1.6279.6001.126264578931778258890371755354_525_98.png (deflated 19%)\n",
      "  adding: kaggle/working/ct_images/1.3.6.1.4.1.14519.5.2.1.6279.6001.898642529028521482602829374444_97_1138.png (deflated 19%)\n",
      "  adding: kaggle/working/ct_images/1.3.6.1.4.1.14519.5.2.1.6279.6001.134996872583497382954024478441_59_132.png (deflated 19%)\n",
      "  adding: kaggle/working/ct_images/1.3.6.1.4.1.14519.5.2.1.6279.6001.281489753704424911132261151767_55_748.png (deflated 20%)\n",
      "  adding: kaggle/working/ct_images/1.3.6.1.4.1.14519.5.2.1.6279.6001.868211851413924881662621747734_117_1123.png (deflated 20%)\n",
      "  adding: kaggle/working/ct_images/1.3.6.1.4.1.14519.5.2.1.6279.6001.752756872840730509471096155114_108_1084.png (deflated 19%)\n",
      "  adding: kaggle/working/ct_images/1.3.6.1.4.1.14519.5.2.1.6279.6001.219909753224298157409438012179_82_506.png (deflated 19%)\n",
      "  adding: kaggle/working/ct_images/1.3.6.1.4.1.14519.5.2.1.6279.6001.138080888843357047811238713686_125_139.png (deflated 19%)\n",
      "  adding: kaggle/working/ct_images/1.3.6.1.4.1.14519.5.2.1.6279.6001.295420274214095686326263147663_144_794.png (deflated 14%)\n",
      "  adding: kaggle/working/ct_images/1.3.6.1.4.1.14519.5.2.1.6279.6001.621916089407825046337959219998_81_1049.png (deflated 17%)\n",
      "  adding: kaggle/working/ct_images/1.3.6.1.4.1.14519.5.2.1.6279.6001.534006575256943390479252771547_201_1019.png (deflated 15%)\n",
      "  adding: kaggle/working/ct_images/1.3.6.1.4.1.14519.5.2.1.6279.6001.109002525524522225658609808059_57_26.png (deflated 12%)\n",
      "  adding: kaggle/working/ct_images/1.3.6.1.4.1.14519.5.2.1.6279.6001.334517907433161353885866806005_145_938.png (deflated 21%)\n",
      "  adding: kaggle/working/ct_images/1.3.6.1.4.1.14519.5.2.1.6279.6001.130438550890816550994739120843_223_117.png (deflated 15%)\n",
      "  adding: kaggle/working/ct_images/1.3.6.1.4.1.14519.5.2.1.6279.6001.141069661700670042960678408762_185_149.png (deflated 21%)\n",
      "  adding: kaggle/working/ct_images/1.3.6.1.4.1.14519.5.2.1.6279.6001.188376349804761988217597754952_132_349.png (deflated 20%)\n",
      "  adding: kaggle/working/ct_images/1.3.6.1.4.1.14519.5.2.1.6279.6001.303421828981831854739626597495_77_836.png (deflated 16%)\n",
      "  adding: kaggle/working/ct_images/1.3.6.1.4.1.14519.5.2.1.6279.6001.323859712968543712594665815359_184_898.png (deflated 18%)\n",
      "  adding: kaggle/working/ct_images/1.3.6.1.4.1.14519.5.2.1.6279.6001.249530219848512542668813996730_96_622.png (deflated 19%)\n",
      "  adding: kaggle/working/ct_images/1.3.6.1.4.1.14519.5.2.1.6279.6001.154677396354641150280013275227_159_199.png (deflated 20%)\n",
      "  adding: kaggle/working/ct_images/1.3.6.1.4.1.14519.5.2.1.6279.6001.395623571499047043765181005112_78_966.png (deflated 20%)\n",
      "  adding: kaggle/working/ct_images/1.3.6.1.4.1.14519.5.2.1.6279.6001.334517907433161353885866806005_141_939.png (deflated 21%)\n",
      "  adding: kaggle/working/ct_images/1.3.6.1.4.1.14519.5.2.1.6279.6001.124154461048929153767743874565_41_86.png (deflated 18%)\n",
      "  adding: kaggle/working/ct_images/1.3.6.1.4.1.14519.5.2.1.6279.6001.826812708000318290301835871780_183_1108.png (deflated 18%)\n",
      "  adding: kaggle/working/ct_images/1.3.6.1.4.1.14519.5.2.1.6279.6001.868211851413924881662621747734_143_1125.png (deflated 20%)\n",
      "  adding: kaggle/working/ct_images/1.3.6.1.4.1.14519.5.2.1.6279.6001.905371958588660410240398317235_111_1141.png (deflated 21%)\n",
      "  adding: kaggle/working/ct_images/1.3.6.1.4.1.14519.5.2.1.6279.6001.129055977637338639741695800950_370_110.png (deflated 20%)\n",
      "  adding: kaggle/working/ct_images/1.3.6.1.4.1.14519.5.2.1.6279.6001.295420274214095686326263147663_120_798.png (deflated 13%)\n",
      "  adding: kaggle/working/ct_images/1.3.6.1.4.1.14519.5.2.1.6279.6001.134996872583497382954024478441_153_130.png (deflated 20%)\n",
      "  adding: kaggle/working/ct_images/1.3.6.1.4.1.14519.5.2.1.6279.6001.640729228179368154416184318668_221_1054.png (deflated 19%)\n",
      "  adding: kaggle/working/ct_images/1.3.6.1.4.1.14519.5.2.1.6279.6001.566816709786169715745131047975_79_1030.png (deflated 16%)\n",
      "  adding: kaggle/working/ct_images/1.3.6.1.4.1.14519.5.2.1.6279.6001.417815314896088956784723476543_228_976.png (deflated 19%)\n",
      "  adding: kaggle/working/ct_images/1.3.6.1.4.1.14519.5.2.1.6279.6001.805925269324902055566754756843_46_1106.png (deflated 18%)\n",
      "  adding: kaggle/working/ct_images/1.3.6.1.4.1.14519.5.2.1.6279.6001.313334055029671473836954456733_33_871.png (deflated 19%)\n",
      "  adding: kaggle/working/ct_images/1.3.6.1.4.1.14519.5.2.1.6279.6001.534083630500464995109143618896_151_1021.png (deflated 16%)\n",
      "  adding: kaggle/working/ct_images/1.3.6.1.4.1.14519.5.2.1.6279.6001.295298571102631191572192562523_110_793.png (deflated 19%)\n",
      "  adding: kaggle/working/ct_images/1.3.6.1.4.1.14519.5.2.1.6279.6001.511347030803753100045216493273_67_1011.png (deflated 20%)\n",
      "  adding: kaggle/working/ct_images/1.3.6.1.4.1.14519.5.2.1.6279.6001.137763212752154081977261297097_90_136.png (deflated 18%)\n",
      "  adding: kaggle/working/ct_images/1.3.6.1.4.1.14519.5.2.1.6279.6001.187451715205085403623595258748_62_336.png (deflated 16%)\n",
      "  adding: kaggle/working/ct_images/1.3.6.1.4.1.14519.5.2.1.6279.6001.216882370221919561230873289517_177_478.png (deflated 14%)\n",
      "  adding: kaggle/working/ct_images/1.3.6.1.4.1.14519.5.2.1.6279.6001.323859712968543712594665815359_212_897.png (deflated 19%)\n",
      "  adding: kaggle/working/ct_images/1.3.6.1.4.1.14519.5.2.1.6279.6001.202811684116768680758082619196_101_420.png (deflated 17%)\n",
      "  adding: kaggle/working/ct_images/1.3.6.1.4.1.14519.5.2.1.6279.6001.108197895896446896160048741492_33_23.png (deflated 19%)\n",
      "  adding: kaggle/working/ct_images/1.3.6.1.4.1.14519.5.2.1.6279.6001.188376349804761988217597754952_183_347.png (deflated 20%)\n",
      "  adding: kaggle/working/ct_images/1.3.6.1.4.1.14519.5.2.1.6279.6001.216882370221919561230873289517_200_477.png (deflated 14%)\n",
      "  adding: kaggle/working/ct_images/1.3.6.1.4.1.14519.5.2.1.6279.6001.313835996725364342034830119490_376_873.png (deflated 20%)\n",
      "  adding: kaggle/working/ct_images/1.3.6.1.4.1.14519.5.2.1.6279.6001.109002525524522225658609808059_68_25.png (deflated 13%)\n",
      "  adding: kaggle/working/ct_images/1.3.6.1.4.1.14519.5.2.1.6279.6001.134996872583497382954024478441_161_131.png (deflated 21%)\n",
      "  adding: kaggle/working/ct_images/1.3.6.1.4.1.14519.5.2.1.6279.6001.525937963993475482158828421281_338_1016.png (deflated 19%)\n",
      "  adding: kaggle/working/ct_images/1.3.6.1.4.1.14519.5.2.1.6279.6001.832260670372728970918746541371_111_1117.png (deflated 18%)\n",
      "  adding: kaggle/working/ct_images/1.3.6.1.4.1.14519.5.2.1.6279.6001.194440094986948071643661798326_49_367.png (deflated 18%)\n",
      "  adding: kaggle/working/ct_images/1.3.6.1.4.1.14519.5.2.1.6279.6001.295298571102631191572192562523_66_792.png (deflated 19%)\n",
      "  adding: kaggle/working/ct_images/1.3.6.1.4.1.14519.5.2.1.6279.6001.534083630500464995109143618896_149_1022.png (deflated 16%)\n",
      "  adding: kaggle/working/ct_images/1.3.6.1.4.1.14519.5.2.1.6279.6001.295420274214095686326263147663_128_797.png (deflated 14%)\n",
      "  adding: kaggle/working/ct_images/1.3.6.1.4.1.14519.5.2.1.6279.6001.333145094436144085379032922488_61_935.png (deflated 20%)\n",
      "  adding: kaggle/working/ct_images/1.3.6.1.4.1.14519.5.2.1.6279.6001.188376349804761988217597754952_123_350.png (deflated 20%)\n",
      "  adding: kaggle/working/ct_images/1.3.6.1.4.1.14519.5.2.1.6279.6001.716498695101447665580610403574_329_1072.png (deflated 21%)\n",
      "  adding: kaggle/working/ct_images/1.3.6.1.4.1.14519.5.2.1.6279.6001.826812708000318290301835871780_167_1109.png (deflated 19%)\n",
      "  adding: kaggle/working/ct_images/1.3.6.1.4.1.14519.5.2.1.6279.6001.137763212752154081977261297097_92_135.png (deflated 18%)\n",
      "  adding: kaggle/working/ct_images/1.3.6.1.4.1.14519.5.2.1.6279.6001.213140617640021803112060161074_212_456.png (deflated 19%)\n",
      "  adding: kaggle/working/ct_images/1.3.6.1.4.1.14519.5.2.1.6279.6001.277445975068759205899107114231_74_733.png (deflated 19%)\n",
      "  adding: kaggle/working/ct_images/1.3.6.1.4.1.14519.5.2.1.6279.6001.430109407146633213496148200410_449_979.png (deflated 14%)\n",
      "  adding: kaggle/working/ct_images/1.3.6.1.4.1.14519.5.2.1.6279.6001.188209889686363159853715266493_97_345.png (deflated 18%)\n",
      "  adding: kaggle/working/ct_images/1.3.6.1.4.1.14519.5.2.1.6279.6001.187451715205085403623595258748_45_335.png (deflated 16%)\n",
      "  adding: kaggle/working/ct_images/1.3.6.1.4.1.14519.5.2.1.6279.6001.323302986710576400812869264321_84_889.png (deflated 18%)\n",
      "  adding: kaggle/working/ct_images/1.3.6.1.4.1.14519.5.2.1.6279.6001.979083010707182900091062408058_56_1180.png (deflated 19%)\n",
      "  adding: kaggle/working/ct_images/1.3.6.1.4.1.14519.5.2.1.6279.6001.534083630500464995109143618896_130_1020.png (deflated 16%)\n",
      "  adding: kaggle/working/ct_images/1.3.6.1.4.1.14519.5.2.1.6279.6001.293757615532132808762625441831_243_783.png (deflated 18%)\n",
      "  adding: kaggle/working/ct_images/1.3.6.1.4.1.14519.5.2.1.6279.6001.511347030803753100045216493273_65_1012.png (deflated 18%)\n",
      "  adding: kaggle/working/ct_images/1.3.6.1.4.1.14519.5.2.1.6279.6001.241570579760883349458693655367_94_580.png (deflated 19%)\n",
      "  adding: kaggle/working/ct_images/1.3.6.1.4.1.14519.5.2.1.6279.6001.294188507421106424248264912111_52_790.png (deflated 15%)\n",
      "  adding: kaggle/working/ct_images/1.3.6.1.4.1.14519.5.2.1.6279.6001.450501966058662668272378865145_69_988.png (deflated 16%)\n",
      "  adding: kaggle/working/ct_images/1.3.6.1.4.1.14519.5.2.1.6279.6001.511347030803753100045216493273_73_1013.png (deflated 20%)\n",
      "  adding: kaggle/working/ct_images/1.3.6.1.4.1.14519.5.2.1.6279.6001.313605260055394498989743099991_73_872.png (deflated 21%)\n",
      "  adding: kaggle/working/output.csv (deflated 72%)\n"
     ]
    }
   ],
   "source": [
    "!zip -r subset0.zip /kaggle/working/ct_images /kaggle/working/output.csv"
   ]
  }
 ],
 "metadata": {
  "kernelspec": {
   "display_name": "Python 3",
   "language": "python",
   "name": "python3"
  },
  "language_info": {
   "codemirror_mode": {
    "name": "ipython",
    "version": 3
   },
   "file_extension": ".py",
   "mimetype": "text/x-python",
   "name": "python",
   "nbconvert_exporter": "python",
   "pygments_lexer": "ipython3",
   "version": "3.10.14"
  }
 },
 "nbformat": 4,
 "nbformat_minor": 4
}
