{
 "cells": [
  {
   "cell_type": "code",
   "execution_count": 2,
   "metadata": {},
   "outputs": [],
   "source": [
    "import SimpleITK as sitk\n",
    "import numpy as np\n",
    "import csv\n",
    "from glob import glob\n",
    "import pandas as pd\n",
    "import os\n",
    "from tqdm import tqdm\n",
    "import matplotlib.pyplot as plt\n",
    "import cv2"
   ]
  },
  {
   "cell_type": "code",
   "execution_count": 11,
   "metadata": {},
   "outputs": [
    {
     "name": "stderr",
     "output_type": "stream",
     "text": [
      "100%|██████████| 176/176 [00:36<00:00,  4.88it/s]\n"
     ]
    }
   ],
   "source": [
    "# LUNA_mask_extraction.py\n",
    "\n",
    "file_list = os.listdir(\"./subset9\")\n",
    "file_list = list(map(lambda file : \"./subset9/\" + file, file_list))\n",
    "\n",
    "def make_mask(center, diam, z, width, height, spacing, origin):\n",
    "    '''\n",
    "        Center : centers of circles px -- list of coordinates x,y,z\n",
    "        diam : diameters of circles px -- diameter\n",
    "        widthXheight : pixel dim of image\n",
    "        spacing = mm/px conversion rate np array x,y,z\n",
    "        origin = x,y,z mm np.array\n",
    "        z = z position of slice in world coordinates mm\n",
    "    '''\n",
    "    mask = np.zeros([height, width]) # 0's everywhere except nodule swapping x,y to match img\n",
    "    #convert to nodule space from world coordinates\n",
    "\n",
    "    # Defining the voxel range in which the nodule falls\n",
    "    v_center = (center - origin)/spacing\n",
    "    v_diam = int(diam/spacing[0] + 1)\n",
    "    v_xmin = np.max([0, int(v_center[0]-v_diam) - 1])\n",
    "    v_xmax = np.min([width-1, int(v_center[0]+v_diam) + 1])\n",
    "    v_ymin = np.max([0, int(v_center[1]-v_diam) - 1]) \n",
    "    v_ymax = np.min([height-1, int(v_center[1]+v_diam) + 1])\n",
    "\n",
    "    v_xrange = range(v_xmin, v_xmax+1)\n",
    "    v_yrange = range(v_ymin, v_ymax+1)\n",
    "\n",
    "    # Convert back to world coordinates for distance calculation\n",
    "    x_data = [x*spacing[0]+origin[0] for x in range(width)]\n",
    "    y_data = [x*spacing[1]+origin[1] for x in range(height)]\n",
    "\n",
    "    # Fill in 1 within sphere around nodule\n",
    "    for v_x in v_xrange:\n",
    "        for v_y in v_yrange:\n",
    "            p_x = spacing[0]*v_x + origin[0]\n",
    "            p_y = spacing[1]*v_y + origin[1]\n",
    "            if np.linalg.norm(center - np.array([p_x, p_y, z])) <= diam:\n",
    "                mask[int((p_y-origin[1]) / spacing[1]), int((p_x-origin[0]) / spacing[0])] = 1.0\n",
    "    return(mask, [v_xmin, v_xmax, v_ymin, v_ymax])\n",
    "\n",
    "def get_filename(case):\n",
    "    global file_list\n",
    "    for f in file_list:\n",
    "        if case in f:\n",
    "            return(f)\n",
    "        \n",
    "def matrix2int16(matrix):\n",
    "    ''' \n",
    "        matrix must be a numpy array NXN\n",
    "        Returns uint16 version\n",
    "    '''\n",
    "    m_min= np.min(matrix)\n",
    "    m_max= np.max(matrix)\n",
    "    matrix = matrix-m_min\n",
    "    return(np.array(np.rint( (matrix-m_min)/float(m_max-m_min) * 65535.0), dtype=np.uint16))\n",
    "\n",
    "if __name__ == \"__main__\":\n",
    "    df_node = pd.read_csv(\"./LUNA16/annotations.csv\")\n",
    "    df_node[\"file\"] = df_node[\"seriesuid\"].apply(get_filename)\n",
    "    df_node = df_node.dropna()\n",
    "    df_roi = pd.read_csv(\"./ROI_coor.csv\")\n",
    "    df_roi_cur = dict()\n",
    "    \n",
    "    for fcount, img_file in enumerate(tqdm(file_list)):\n",
    "        # print(\"Getting mask for image file %s\" % img_file.replace(\"./subset0\",\"\"))\n",
    "        mini_df = df_node[df_node[\"file\"]==img_file] #get all nodules associate with file\n",
    "        if len(mini_df) > 0:       # some files may not have a nodule--skipping those\n",
    "            itk_img = sitk.ReadImage(img_file) # read .mhd file\n",
    "            img_array = sitk.GetArrayFromImage(itk_img) # indexes are z,y,x (notice the ordering)\n",
    "            num_z, height, width = img_array.shape\n",
    "            origin = np.array(itk_img.GetOrigin())      # x,y,z  Origin in world coordinates (mm)\n",
    "            spacing = np.array(itk_img.GetSpacing())    # spacing of voxels in world coor. (mm)\n",
    "            \n",
    "            for node_idx, cur_row in mini_df.iterrows():       \n",
    "                node_x = cur_row[\"coordX\"]\n",
    "                node_y = cur_row[\"coordY\"]\n",
    "                node_z = cur_row[\"coordZ\"]\n",
    "                diam = cur_row[\"diameter_mm\"]\n",
    "                \n",
    "                imgs = np.ndarray([5, height, width], dtype=np.float32)\n",
    "                # masks = np.ndarray([5, height, width], dtype=np.uint8)\n",
    "                center = np.array([node_x, node_y, node_z])   # nodule center\n",
    "                v_center = np.rint((center-origin)/spacing)  # nodule center in voxel space (still x,y,z ordering)\n",
    "            \n",
    "                for i, i_z in enumerate(np.arange(int(v_center[2])-2, int(v_center[2])+3).clip(0, num_z-1)): # clip prevents going out of bounds in Z\n",
    "                    # mask, roi = make_mask(center, diam, i_z*spacing[2]+origin[2], width, height, spacing, origin)\n",
    "                    _, roi = make_mask(center, diam, i_z*spacing[2]+origin[2], width, height, spacing, origin)\n",
    "                    if i == 2:\n",
    "                        # roi_key = \"roi_%04d_%04d\" % (fcount, node_idx)\n",
    "                        roi_key = f\"{file_list[0].split('/')[-1].rsplit('.', 1)[0]}_{fcount}_{node_idx}\"\n",
    "                        df_roi_cur.update({roi_key: roi})\n",
    "                    # masks[i] = mask\n",
    "                    imgs[i] = img_array[i_z]\n",
    "                img_name = f\"{file_list[0].split('/')[-1].rsplit('.', 1)[0]}_{fcount}_{node_idx}.npy\"\n",
    "                mask_name = f\"{file_list[0].split('/')[-1].rsplit('.', 1)[0]}_{fcount}_{node_idx}.npy\"\n",
    "                # np.save(os.path.join(\"./images\", \"images_%04d_%04d.npy\" % (fcount, node_idx)), imgs)\n",
    "                # np.save(os.path.join(\"./masks\", \"masks_%04d_%04d.npy\" % (fcount, node_idx)), masks)\n",
    "                \n",
    "                np.save(os.path.join(\"./LUNA16/images\", img_name), imgs)\n",
    "                # np.save(os.path.join(\"./masks\", mask_name), masks)\n",
    "            \n",
    "    df_temp = pd.DataFrame.from_dict(df_roi_cur, columns=[\"x_min\", \"x_max\", \"y_min\", \"y_max\"], orient='index')\n",
    "    df_temp[\"ID\"] = list(df_roi_cur.keys())\n",
    "    df_temp = df_temp.reset_index(drop=True)\n",
    "    df_roi = pd.concat([df_roi, df_temp])\n",
    "    df_roi.to_csv(\"ROI_coor.csv\", index=False)"
   ]
  },
  {
   "cell_type": "code",
   "execution_count": 12,
   "metadata": {},
   "outputs": [
    {
     "name": "stderr",
     "output_type": "stream",
     "text": [
      "100%|██████████| 105/105 [00:03<00:00, 30.04it/s]\n"
     ]
    }
   ],
   "source": [
    "def normalize(image):\n",
    "    MIN_BOUND = -1000.0\n",
    "    MAX_BOUND = 400.0\n",
    "    image = (image - MIN_BOUND) / (MAX_BOUND - MIN_BOUND)\n",
    "    image[image>1] = 1.\n",
    "    image[image<0] = 0.\n",
    "    return image\n",
    "\n",
    "img_files = os.listdir(\"./LUNA16/images\")\n",
    "for img_file in tqdm(img_files):\n",
    "    imgs = np.load(f\"./LUNA16/images/{img_file}\")\n",
    "    temp = normalize(imgs[2])\n",
    "    img_grey = temp * 255\n",
    "    img_rgb = np.stack((img_grey,)*3, -1)\n",
    "    cv2.imwrite(f\"./preprocessed_img/{img_file.rsplit('.', 1)[0]}.png\", img_rgb)"
   ]
  },
  {
   "cell_type": "code",
   "execution_count": 90,
   "metadata": {},
   "outputs": [
    {
     "name": "stdout",
     "output_type": "stream",
     "text": [
      "-374\n",
      "<class 'numpy.int64'>\n"
     ]
    },
    {
     "data": {
      "text/plain": [
       "-1"
      ]
     },
     "execution_count": 90,
     "metadata": {},
     "output_type": "execute_result"
    }
   ],
   "source": [
    "img_rgb = cv2.imread(\"./preprocessed_img/1.3.6.1.4.1.14519.5.2.1.6279.6001.100621383016233746780170740405_176_1175.png\")\n",
    "temp = \"images_1.3.6.1.4.1.14519.5.2.1.6279.6001.100621383016233746780170740405_176_1175\".split('_', 1)[-1]\n",
    "df_roi = pd.read_csv(\"./ROI_coor.csv\")\n",
    "a = df_roi[df_roi[\"ID\"] == f\"{temp}\"]\n",
    "x_min, x_max, y_min, y_max = a[\"x_min\"].iloc[0], a[\"x_max\"].iloc[0], a[\"y_min\"].iloc[0], a[\"y_max\"].iloc[0]\n",
    "print(int(x_max))\n",
    "print(type(x_max))\n",
    "cv2.rectangle(img_rgb, (x_min, y_min), (x_max, y_max), color=(255,0,0), thickness=2)\n",
    "cv2.imshow(\"lalala\", img_rgb)\n",
    "cv2.waitKey(0)\n",
    "# cv2.imwrite(\"temp.png\", img_rgb)"
   ]
  },
  {
   "cell_type": "code",
   "execution_count": 30,
   "metadata": {},
   "outputs": [
    {
     "name": "stdout",
     "output_type": "stream",
     "text": [
      "121 512 512\n"
     ]
    }
   ],
   "source": [
    "# temp.py\n",
    "\n",
    "import SimpleITK as sitk\n",
    "import os\n",
    "import numpy as np\n",
    "import pandas as pd\n",
    "\n",
    "file_name = \"./subset0/1.3.6.1.4.1.14519.5.2.1.6279.6001.105756658031515062000744821260.mhd\"\n",
    "itk_img = sitk.ReadImage(file_name)\n",
    "img_array = sitk.GetArrayFromImage(itk_img) # indexes are z,y,x (notice the ordering)\n",
    "# center = np.array([node_x, node_y, node_z])   # nodule center\n",
    "origin = np.array(itk_img.GetOrigin())      # x,y,z  Origin in world coordinates (mm)\n",
    "spacing = np.array(itk_img.GetSpacing())    # spacing of voxels in world coor. (mm)\n",
    "# v_center =np.rint((center-origin)/spacing)  # nodule center in voxel space (still x,y,z ordering\n",
    "\n",
    "num_z, height, width = img_array.shape\n",
    "print(num_z, height, width)"
   ]
  }
 ],
 "metadata": {
  "kernelspec": {
   "display_name": "CT552_vm",
   "language": "python",
   "name": "python3"
  },
  "language_info": {
   "codemirror_mode": {
    "name": "ipython",
    "version": 3
   },
   "file_extension": ".py",
   "mimetype": "text/x-python",
   "name": "python",
   "nbconvert_exporter": "python",
   "pygments_lexer": "ipython3",
   "version": "3.11.9"
  }
 },
 "nbformat": 4,
 "nbformat_minor": 2
}
