{
 "cells": [
  {
   "cell_type": "code",
   "execution_count": 1,
   "metadata": {},
   "outputs": [
    {
     "name": "stdout",
     "output_type": "stream",
     "text": [
      "hello world\n"
     ]
    }
   ],
   "source": [
    "# LUNA_mask_extraction.py\n",
    "\n",
    "import SimpleITK as sitk\n",
    "import numpy as np\n",
    "import csv\n",
    "from glob import glob\n",
    "import pandas as pd\n",
    "import os\n",
    "from tqdm import tqdm\n",
    "\n",
    "file_list = os.listdir(\"./subset0\")\n",
    "file_list = list(map(lambda file : \"./subset0/\" + file, file_list))\n",
    "\n",
    "def get_filename(case):\n",
    "    global file_list\n",
    "    for f in file_list:\n",
    "        if case in f:\n",
    "            return(f)\n",
    "        \n",
    "def matrix2int16(matrix):\n",
    "    ''' \n",
    "        matrix must be a numpy array NXN\n",
    "        Returns uint16 version\n",
    "    '''\n",
    "    m_min= np.min(matrix)\n",
    "    m_max= np.max(matrix)\n",
    "    matrix = matrix-m_min\n",
    "    return(np.array(np.rint( (matrix-m_min)/float(m_max-m_min) * 65535.0), dtype=np.uint16))\n",
    "\n",
    "if __name__ == \"__main__\":\n",
    "    df_node = pd.read_csv(\"./annotations.csv\")\n",
    "    df_node[\"file\"] = df_node[\"seriesuid\"].apply(get_filename)\n",
    "    df_node = df_node.dropna()\n",
    "    \n",
    "    for fcount, img_file in enumerate(tqdm(file_list)):\n",
    "        # print(\"Getting mask for image file %s\" % img_file.replace(\"./subset0\",\"\"))\n",
    "        mini_df = df_node[df_node[\"file\"]==img_file] #get all nodules associate with file\n",
    "        if len(mini_df) > 0:       # some files may not have a nodule--skipping those\n",
    "            itk_img = sitk.ReadImage(img_file) # read .mhd file\n",
    "            img_array = sitk.GetArrayFromImage(itk_img) # indexes are z,y,x (notice the ordering)\n",
    "            numz, height, width = img_array.shape\n",
    "            origin = np.array(itk_img.GetOrigin())      # x,y,z  Origin in world coordinates (mm)\n",
    "            spacing = np.array(itk_img.GetSpacing())    # spacing of voxels in world coor. (mm)\n",
    "            \n",
    "            for node_idx, cur_row in mini_df.iterrows():       \n",
    "                node_x = cur_row[\"coordX\"]\n",
    "                node_y = cur_row[\"coordY\"]\n",
    "                node_z = cur_row[\"coordZ\"]\n",
    "                diam = cur_row[\"diameter_mm\"]\n",
    "                \n",
    "                imgs = np.ndarray([3, height, width], dtype=np.float32)\n",
    "                masks = np.ndarray([3, height, width], dtype=np.uint8)\n",
    "                center = np.array([node_x, node_y, node_z])   # nodule center\n",
    "                v_center = np.rint((center-origin)/spacing)  # nodule center in voxel space (still x,y,z ordering)\n",
    "            \n",
    "            i = 0\n",
    "            for i_z in range(int(v_center[2])-1, int(v_center[2])+2):\n",
    "                mask = make_mask(center, diam, i_z*spacing[2]+origin[2], width, height, spacing, origin)\n",
    "                masks[i] = mask\n",
    "                imgs[i] = matrix2int16(img_array[i_z])\n",
    "                i+=1\n",
    "            np.save(output_path+\"images_%d.npy\" % (fcount) ,imgs)\n",
    "            np.save(output_path+\"masks_%d.npy\" % (fcount) ,masks)"
   ]
  },
  {
   "cell_type": "code",
   "execution_count": 2,
   "metadata": {},
   "outputs": [
    {
     "name": "stdout",
     "output_type": "stream",
     "text": [
      "(121, 512, 512)\n"
     ]
    }
   ],
   "source": [
    "# temp.py\n",
    "\n",
    "import SimpleITK as sitk\n",
    "import os\n",
    "import numpy as np\n",
    "\n",
    "file_name = \"./subset0/1.3.6.1.4.1.14519.5.2.1.6279.6001.105756658031515062000744821260.mhd\"\n",
    "itk_img = sitk.ReadImage(file_name)\n",
    "img_array = sitk.GetArrayFromImage(itk_img) # indexes are z,y,x (notice the ordering)\n",
    "# center = np.array([node_x, node_y, node_z])   # nodule center\n",
    "origin = np.array(itk_img.GetOrigin())      # x,y,z  Origin in world coordinates (mm)\n",
    "spacing = np.array(itk_img.GetSpacing())    # spacing of voxels in world coor. (mm)\n",
    "# v_center =np.rint((center-origin)/spacing)  # nodule center in voxel space (still x,y,z ordering\n",
    "\n",
    "num_z, height, width = img_array.shape"
   ]
  }
 ],
 "metadata": {
  "kernelspec": {
   "display_name": "CT552_vm",
   "language": "python",
   "name": "python3"
  },
  "language_info": {
   "codemirror_mode": {
    "name": "ipython",
    "version": 3
   },
   "file_extension": ".py",
   "mimetype": "text/x-python",
   "name": "python",
   "nbconvert_exporter": "python",
   "pygments_lexer": "ipython3",
   "version": "3.11.9"
  }
 },
 "nbformat": 4,
 "nbformat_minor": 2
}
