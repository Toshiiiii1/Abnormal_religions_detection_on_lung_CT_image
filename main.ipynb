{
 "cells": [
  {
   "cell_type": "code",
   "execution_count": 1,
   "metadata": {},
   "outputs": [],
   "source": [
    "import SimpleITK as sitk\n",
    "import numpy as np\n",
    "import csv\n",
    "from glob import glob\n",
    "import pandas as pd\n",
    "import os\n",
    "from tqdm import tqdm\n",
    "import matplotlib.pyplot as plt\n",
    "import cv2"
   ]
  },
  {
   "cell_type": "markdown",
   "metadata": {},
   "source": [
    "## Image extraction"
   ]
  },
  {
   "cell_type": "code",
   "execution_count": 11,
   "metadata": {},
   "outputs": [
    {
     "name": "stderr",
     "output_type": "stream",
     "text": [
      "100%|██████████| 176/176 [00:36<00:00,  4.88it/s]\n"
     ]
    }
   ],
   "source": [
    "# LUNA_mask_extraction.py\n",
    "\n",
    "file_list = os.listdir(\"./subset9\")\n",
    "file_list = list(map(lambda file : \"./subset9/\" + file, file_list))\n",
    "\n",
    "def make_mask(center, diam, z, width, height, spacing, origin):\n",
    "    '''\n",
    "        Center : centers of circles px -- list of coordinates x,y,z\n",
    "        diam : diameters of circles px -- diameter\n",
    "        widthXheight : pixel dim of image\n",
    "        spacing = mm/px conversion rate np array x,y,z\n",
    "        origin = x,y,z mm np.array\n",
    "        z = z position of slice in world coordinates mm\n",
    "    '''\n",
    "    mask = np.zeros([height, width]) # 0's everywhere except nodule swapping x,y to match img\n",
    "    #convert to nodule space from world coordinates\n",
    "\n",
    "    # Defining the voxel range in which the nodule falls\n",
    "    v_center = (center - origin)/spacing\n",
    "    v_diam = int(diam/spacing[0] + 1)\n",
    "    v_xmin = np.max([0, int(v_center[0]-v_diam) - 1])\n",
    "    v_xmax = np.min([width-1, int(v_center[0]+v_diam) + 1])\n",
    "    v_ymin = np.max([0, int(v_center[1]-v_diam) - 1]) \n",
    "    v_ymax = np.min([height-1, int(v_center[1]+v_diam) + 1])\n",
    "\n",
    "    v_xrange = range(v_xmin, v_xmax+1)\n",
    "    v_yrange = range(v_ymin, v_ymax+1)\n",
    "\n",
    "    # Convert back to world coordinates for distance calculation\n",
    "    x_data = [x*spacing[0]+origin[0] for x in range(width)]\n",
    "    y_data = [x*spacing[1]+origin[1] for x in range(height)]\n",
    "\n",
    "    # Fill in 1 within sphere around nodule\n",
    "    for v_x in v_xrange:\n",
    "        for v_y in v_yrange:\n",
    "            p_x = spacing[0]*v_x + origin[0]\n",
    "            p_y = spacing[1]*v_y + origin[1]\n",
    "            if np.linalg.norm(center - np.array([p_x, p_y, z])) <= diam:\n",
    "                mask[int((p_y-origin[1]) / spacing[1]), int((p_x-origin[0]) / spacing[0])] = 1.0\n",
    "    return(mask, [v_xmin, v_xmax, v_ymin, v_ymax])\n",
    "\n",
    "def get_filename(case):\n",
    "    global file_list\n",
    "    for f in file_list:\n",
    "        if case in f:\n",
    "            return(f)\n",
    "        \n",
    "def normalize(image):\n",
    "    MIN_BOUND = -1000.0\n",
    "    MAX_BOUND = 400.0\n",
    "    image = (image - MIN_BOUND) / (MAX_BOUND - MIN_BOUND)\n",
    "    image[image>1] = 1.\n",
    "    image[image<0] = 0.\n",
    "    return image\n",
    "        \n",
    "def matrix2int16(matrix):\n",
    "    ''' \n",
    "        matrix must be a numpy array NXN\n",
    "        Returns uint16 version\n",
    "    '''\n",
    "    m_min= np.min(matrix)\n",
    "    m_max= np.max(matrix)\n",
    "    matrix = matrix-m_min\n",
    "    return(np.array(np.rint( (matrix-m_min)/float(m_max-m_min) * 65535.0), dtype=np.uint16))\n",
    "\n",
    "if __name__ == \"__main__\":\n",
    "    df_node = pd.read_csv(\"./LUNA16/annotations.csv\")\n",
    "    df_node[\"file\"] = df_node[\"seriesuid\"].apply(get_filename)\n",
    "    df_node = df_node.dropna()\n",
    "    df_roi = pd.read_csv(\"./ROI_coor.csv\")\n",
    "    df_roi_cur = dict()\n",
    "    \n",
    "    for fcount, img_file in enumerate(tqdm(file_list)):\n",
    "        # print(\"Getting mask for image file %s\" % img_file.replace(\"./subset0\",\"\"))\n",
    "        mini_df = df_node[df_node[\"file\"]==img_file] #get all nodules associate with file\n",
    "        if len(mini_df) > 0:       # some files may not have a nodule--skipping those\n",
    "            itk_img = sitk.ReadImage(img_file) # read .mhd file\n",
    "            img_array = sitk.GetArrayFromImage(itk_img) # indexes are z,y,x (notice the ordering)\n",
    "            num_z, height, width = img_array.shape\n",
    "            origin = np.array(itk_img.GetOrigin())      # x,y,z  Origin in world coordinates (mm)\n",
    "            spacing = np.array(itk_img.GetSpacing())    # spacing of voxels in world coor. (mm)\n",
    "            \n",
    "            for node_idx, cur_row in mini_df.iterrows():       \n",
    "                node_x = cur_row[\"coordX\"]\n",
    "                node_y = cur_row[\"coordY\"]\n",
    "                node_z = cur_row[\"coordZ\"]\n",
    "                diam = cur_row[\"diameter_mm\"]\n",
    "                \n",
    "                imgs = np.ndarray([5, height, width], dtype=np.float32)\n",
    "                # masks = np.ndarray([5, height, width], dtype=np.uint8)\n",
    "                center = np.array([node_x, node_y, node_z])   # nodule center\n",
    "                v_center = np.rint((center-origin)/spacing)  # nodule center in voxel space (still x,y,z ordering)\n",
    "            \n",
    "                for i, i_z in enumerate(np.arange(int(v_center[2])-2, int(v_center[2])+3).clip(0, num_z-1)): # clip prevents going out of bounds in Z\n",
    "                    # mask, roi = make_mask(center, diam, i_z*spacing[2]+origin[2], width, height, spacing, origin)\n",
    "                    _, roi = make_mask(center, diam, i_z*spacing[2]+origin[2], width, height, spacing, origin)\n",
    "                    if i == 2:\n",
    "                        # roi_key = \"roi_%04d_%04d\" % (fcount, node_idx)\n",
    "                        roi_key = f\"{img_file.split('/')[-1].rsplit('.', 1)[0]}_{fcount}_{node_idx}\"\n",
    "                        df_roi_cur.update({roi_key: roi})\n",
    "                    # masks[i] = mask\n",
    "                    imgs[i] = img_array[i_z]\n",
    "                img_name = f\"{img_file.split('/')[-1].rsplit('.', 1)[0]}_{fcount}_{node_idx}.npy\"\n",
    "                mask_name = f\"{img_file.split('/')[-1].rsplit('.', 1)[0]}_{fcount}_{node_idx}.npy\"\n",
    "                # np.save(os.path.join(\"./images\", \"images_%04d_%04d.npy\" % (fcount, node_idx)), imgs)\n",
    "                # np.save(os.path.join(\"./masks\", \"masks_%04d_%04d.npy\" % (fcount, node_idx)), masks)\n",
    "                \n",
    "                np.save(os.path.join(\"./LUNA16/images\", img_name), imgs)\n",
    "                # np.save(os.path.join(\"./masks\", mask_name), masks)\n",
    "            \n",
    "    df_temp = pd.DataFrame.from_dict(df_roi_cur, columns=[\"x_min\", \"x_max\", \"y_min\", \"y_max\"], orient='index')\n",
    "    df_temp[\"ID\"] = list(df_roi_cur.keys())\n",
    "    df_temp = df_temp.reset_index(drop=True)\n",
    "    df_roi = pd.concat([df_roi, df_temp])\n",
    "    df_roi.to_csv(\"ROI_coor.csv\", index=False)\n",
    "    \n",
    "    img_files = os.listdir(\"./LUNA16/images\")\n",
    "    for img_file in tqdm(img_files):\n",
    "        imgs = np.load(f\"./LUNA16/images/{img_file}\")\n",
    "        temp = normalize(imgs[2])\n",
    "        img_grey = temp * 255\n",
    "        img_rgb = np.stack((img_grey,)*3, -1)\n",
    "        cv2.imwrite(f\"./preprocessed_img/{img_file.rsplit('.', 1)[0]}.png\", img_rgb)"
   ]
  },
  {
   "cell_type": "code",
   "execution_count": 106,
   "metadata": {},
   "outputs": [],
   "source": [
    "file_name = \"./LUNA16/subset9/1.3.6.1.4.1.14519.5.2.1.6279.6001.312127933722985204808706697221.mhd\"\n",
    "itkimage = sitk.ReadImage(file_name)\n",
    "ct_scan = sitk.GetArrayFromImage(itkimage)\n",
    "origin = np.array(list(reversed(itkimage.GetOrigin())))\n",
    "spacing = np.array(list(reversed(itkimage.GetSpacing())))\n",
    "canter = np.array([116.8024039,-1.291850522,-197.5054168])\n",
    "diam = 4.666322736\n",
    "\n"
   ]
  },
  {
   "cell_type": "code",
   "execution_count": 125,
   "metadata": {},
   "outputs": [
    {
     "name": "stdout",
     "output_type": "stream",
     "text": [
      "254 262 145 153\n"
     ]
    }
   ],
   "source": [
    "nodules_center_voxel = np.rint(np.absolute(center-origin)/spacing)\n",
    "width_half = int(diam / spacing[1] / 2 + 0.999)\n",
    "i_x, i_y, i_z = nodules_center_voxel\n",
    "x1, x2, y1, y2 = int(i_x-width_half), int(i_x+width_half), int(i_y-width_half), int(i_y+width_half)\n",
    "print(x1, x2, y1, y2)"
   ]
  },
  {
   "cell_type": "code",
   "execution_count": 126,
   "metadata": {},
   "outputs": [
    {
     "data": {
      "text/plain": [
       "-1"
      ]
     },
     "execution_count": 126,
     "metadata": {},
     "output_type": "execute_result"
    }
   ],
   "source": [
    "ids = \"1.3.6.1.4.1.14519.5.2.1.6279.6001.102681962408431413578140925249_128_863\"\n",
    "img_rgb = cv2.imread(f\"./preprocessed_img/{ids}.png\")\n",
    "temp = f\"images_{ids}\".split('_', 1)[-1]\n",
    "df_roi = pd.read_csv(\"./ROI_coor.csv\")\n",
    "a = df_roi[df_roi[\"ID\"] == f\"{temp}\"]\n",
    "x_min, x_max, y_min, y_max = a[\"x_min\"].iloc[0], a[\"x_max\"].iloc[0], a[\"y_min\"].iloc[0], a[\"y_max\"].iloc[0]\n",
    "ct_img = cv2.cvtColor(img_rgb, cv2.COLOR_BGR2GRAY)\n",
    "# ct_img = cv2.medianBlur(ct_img, 9)\n",
    "# cv2.rectangle(ct_img, (x_min, y_min), (x_max, y_max), color=(255,0,0), thickness=2)\n",
    "cv2.rectangle(ct_img, (x1 + 2, y1 + 2), (x2 + 2, y2 + 2), color=(255,0,0), thickness=2)\n",
    "cv2.imshow(\"lalala\", ct_img)\n",
    "cv2.waitKey(0)"
   ]
  },
  {
   "cell_type": "markdown",
   "metadata": {},
   "source": [
    "## Image preprocessing"
   ]
  },
  {
   "cell_type": "code",
   "execution_count": 128,
   "metadata": {},
   "outputs": [
    {
     "name": "stdout",
     "output_type": "stream",
     "text": [
      "<class 'pandas.core.frame.DataFrame'>\n",
      "Index: 1162 entries, 0 to 1185\n",
      "Data columns (total 5 columns):\n",
      " #   Column  Non-Null Count  Dtype \n",
      "---  ------  --------------  ----- \n",
      " 0   x_min   1162 non-null   int64 \n",
      " 1   x_max   1162 non-null   int64 \n",
      " 2   y_min   1162 non-null   int64 \n",
      " 3   y_max   1162 non-null   int64 \n",
      " 4   ID      1162 non-null   object\n",
      "dtypes: int64(4), object(1)\n",
      "memory usage: 54.5+ KB\n"
     ]
    }
   ],
   "source": [
    "df_roi = pd.read_csv(\"./ROI_coor.csv\")\n",
    "df_roi = df_roi[(df_roi['x_min'] >= 0) & (df_roi['x_max'] >= 0) & (df_roi['y_min'] >= 0) & (df_roi['y_max'] >= 0)]\n",
    "df_roi.info()\n",
    "df_roi.to_csv(\"ROI_coor2.csv\", index=False)"
   ]
  },
  {
   "cell_type": "code",
   "execution_count": 6,
   "metadata": {},
   "outputs": [
    {
     "name": "stderr",
     "output_type": "stream",
     "text": [
      "  0%|          | 0/1186 [00:00<?, ?it/s]"
     ]
    },
    {
     "name": "stderr",
     "output_type": "stream",
     "text": [
      "100%|██████████| 1186/1186 [00:00<00:00, 14464.34it/s]\n"
     ]
    }
   ],
   "source": [
    "df = pd.read_csv(\"./ROI_coor2.csv\")\n",
    "ids = df[\"ID\"].to_numpy()\n",
    "\n",
    "file_list = os.listdir(\"./preprocessed_img\")\n",
    "for i in tqdm(file_list):\n",
    "    file_name = i.rsplit(\".\", 1)[0]\n",
    "    if file_name not in ids:\n",
    "        os.remove(f\"./preprocessed_img/{i}\")"
   ]
  },
  {
   "cell_type": "code",
   "execution_count": 2,
   "metadata": {},
   "outputs": [
    {
     "data": {
      "text/plain": [
       "(512, 512, 3)"
      ]
     },
     "execution_count": 2,
     "metadata": {},
     "output_type": "execute_result"
    }
   ],
   "source": [
    "ct_img = cv2.imread(\"./preprocessed_img/1.3.6.1.4.1.14519.5.2.1.6279.6001.100225287222365663678666836860_0_0.png\")\n",
    "ct_img = cv2.cvtColor(ct_img, cv2.COLOR_BGR2GRAY)\n",
    "ct_img = cv2.medianBlur(ct_img, 9)\n",
    "cv2.imshow(\"lalala\", ct_img)\n",
    "cv2.waitKey(0)"
   ]
  },
  {
   "cell_type": "code",
   "execution_count": 9,
   "metadata": {},
   "outputs": [],
   "source": [
    "def yolo_format_calculate(x_min, x_max, y_min, y_max, width, height):\n",
    "    box_width = x_max - x_min\n",
    "    box_height = y_max - y_min\n",
    "    x_center = x_min + (box_width/2)\n",
    "    y_center = y_min + (box_height/2)\n",
    "\n",
    "    return x_center/width, y_center/height, box_width/width, box_height/height"
   ]
  },
  {
   "cell_type": "code",
   "execution_count": 8,
   "metadata": {},
   "outputs": [
    {
     "name": "stdout",
     "output_type": "stream",
     "text": [
      "<class 'pandas.core.frame.DataFrame'>\n",
      "RangeIndex: 1162 entries, 0 to 1161\n",
      "Data columns (total 5 columns):\n",
      " #   Column  Non-Null Count  Dtype \n",
      "---  ------  --------------  ----- \n",
      " 0   x_min   1162 non-null   int64 \n",
      " 1   x_max   1162 non-null   int64 \n",
      " 2   y_min   1162 non-null   int64 \n",
      " 3   y_max   1162 non-null   int64 \n",
      " 4   ID      1162 non-null   object\n",
      "dtypes: int64(4), object(1)\n",
      "memory usage: 45.5+ KB\n"
     ]
    }
   ],
   "source": [
    "df_roi = pd.read_csv(\"./ROI_coor2.csv\")\n",
    "for idx, row in df_roi.iterrows():\n",
    "    x_min = row[\"x_min\"].iloc[0]\n",
    "    x_max = row[\"x_max\"].iloc[0]\n",
    "    y_min = row[\"y_min\"].iloc[0]\n",
    "    y_max = row[\"y_max\"].iloc[0]\n",
    "    roi_id = row[\"ID\"].iloc[0]\n",
    "    \n",
    "    x_center, y_center, box_w, box_h = yolo_format_calculate(x_min, x_max, y_min, x_max)\n",
    "    \n",
    "    "
   ]
  },
  {
   "cell_type": "code",
   "execution_count": 5,
   "metadata": {},
   "outputs": [
    {
     "name": "stderr",
     "output_type": "stream",
     "text": [
      "C:\\Users\\huynh\\AppData\\Local\\Temp\\ipykernel_14680\\4108588483.py:10: DeprecationWarning: 'from_yolo' is deprecated. Please use `from_yolo_darknet` or `from_yolo_v5`\n",
      "  annotations = globox.AnnotationSet.from_yolo(path, image_folder=\"./preprocessed_img\")\n"
     ]
    },
    {
     "ename": "FileParsingError",
     "evalue": "Error while reading file 'D:\\Code\\Python Code\\CT552\\labels\\1.3.6.1.4.1.14519.5.2.1.6279.6001.100225287222365663678666836860_0_0.txt': Syntax error in txt annotation file.",
     "output_type": "error",
     "traceback": [
      "\u001b[1;31m---------------------------------------------------------------------------\u001b[0m",
      "\u001b[1;31mValueError\u001b[0m                                Traceback (most recent call last)",
      "File \u001b[1;32md:\\Code\\Python Code\\CT552\\CT552_vm\\Lib\\site-packages\\globox\\boundingbox.py:355\u001b[0m, in \u001b[0;36mBoundingBox.from_txt\u001b[1;34m(string, box_format, relative, image_size, separator, conf_last)\u001b[0m\n\u001b[0;32m    354\u001b[0m \u001b[38;5;28;01mtry\u001b[39;00m:\n\u001b[1;32m--> 355\u001b[0m     coords \u001b[38;5;241m=\u001b[39m \u001b[38;5;28;43mtuple\u001b[39;49m\u001b[43m(\u001b[49m\u001b[38;5;28;43mfloat\u001b[39;49m\u001b[43m(\u001b[49m\u001b[43mc\u001b[49m\u001b[43m)\u001b[49m\u001b[43m \u001b[49m\u001b[38;5;28;43;01mfor\u001b[39;49;00m\u001b[43m \u001b[49m\u001b[43mc\u001b[49m\u001b[43m \u001b[49m\u001b[38;5;129;43;01min\u001b[39;49;00m\u001b[43m \u001b[49m\u001b[43mcoords\u001b[49m\u001b[43m)\u001b[49m\n\u001b[0;32m    356\u001b[0m     \u001b[38;5;28;01mif\u001b[39;00m confidence \u001b[38;5;129;01mis\u001b[39;00m \u001b[38;5;129;01mnot\u001b[39;00m \u001b[38;5;28;01mNone\u001b[39;00m:\n",
      "File \u001b[1;32md:\\Code\\Python Code\\CT552\\CT552_vm\\Lib\\site-packages\\globox\\boundingbox.py:355\u001b[0m, in \u001b[0;36m<genexpr>\u001b[1;34m(.0)\u001b[0m\n\u001b[0;32m    354\u001b[0m \u001b[38;5;28;01mtry\u001b[39;00m:\n\u001b[1;32m--> 355\u001b[0m     coords \u001b[38;5;241m=\u001b[39m \u001b[38;5;28mtuple\u001b[39m(\u001b[38;5;28;43mfloat\u001b[39;49m\u001b[43m(\u001b[49m\u001b[43mc\u001b[49m\u001b[43m)\u001b[49m \u001b[38;5;28;01mfor\u001b[39;00m c \u001b[38;5;129;01min\u001b[39;00m coords)\n\u001b[0;32m    356\u001b[0m     \u001b[38;5;28;01mif\u001b[39;00m confidence \u001b[38;5;129;01mis\u001b[39;00m \u001b[38;5;129;01mnot\u001b[39;00m \u001b[38;5;28;01mNone\u001b[39;00m:\n",
      "\u001b[1;31mValueError\u001b[0m: could not convert string to float: '0.412109375,'",
      "\nDuring handling of the above exception, another exception occurred:\n",
      "\u001b[1;31mParsingError\u001b[0m                              Traceback (most recent call last)",
      "File \u001b[1;32md:\\Code\\Python Code\\CT552\\CT552_vm\\Lib\\site-packages\\globox\\annotation.py:124\u001b[0m, in \u001b[0;36mAnnotation.from_txt\u001b[1;34m(file_path, image_id, image_extension, box_format, relative, image_size, separator, conf_last)\u001b[0m\n\u001b[0;32m    123\u001b[0m \u001b[38;5;28;01mtry\u001b[39;00m:\n\u001b[1;32m--> 124\u001b[0m     boxes \u001b[38;5;241m=\u001b[39m \u001b[43m[\u001b[49m\n\u001b[0;32m    125\u001b[0m \u001b[43m        \u001b[49m\u001b[43mBoundingBox\u001b[49m\u001b[38;5;241;43m.\u001b[39;49m\u001b[43mfrom_txt\u001b[49m\u001b[43m(\u001b[49m\n\u001b[0;32m    126\u001b[0m \u001b[43m            \u001b[49m\u001b[43ml\u001b[49m\u001b[43m,\u001b[49m\n\u001b[0;32m    127\u001b[0m \u001b[43m            \u001b[49m\u001b[43mbox_format\u001b[49m\u001b[38;5;241;43m=\u001b[39;49m\u001b[43mbox_format\u001b[49m\u001b[43m,\u001b[49m\n\u001b[0;32m    128\u001b[0m \u001b[43m            \u001b[49m\u001b[43mrelative\u001b[49m\u001b[38;5;241;43m=\u001b[39;49m\u001b[43mrelative\u001b[49m\u001b[43m,\u001b[49m\n\u001b[0;32m    129\u001b[0m \u001b[43m            \u001b[49m\u001b[43mimage_size\u001b[49m\u001b[38;5;241;43m=\u001b[39;49m\u001b[43mimage_size\u001b[49m\u001b[43m,\u001b[49m\n\u001b[0;32m    130\u001b[0m \u001b[43m            \u001b[49m\u001b[43mseparator\u001b[49m\u001b[38;5;241;43m=\u001b[39;49m\u001b[43mseparator\u001b[49m\u001b[43m,\u001b[49m\n\u001b[0;32m    131\u001b[0m \u001b[43m            \u001b[49m\u001b[43mconf_last\u001b[49m\u001b[38;5;241;43m=\u001b[39;49m\u001b[43mconf_last\u001b[49m\u001b[43m,\u001b[49m\n\u001b[0;32m    132\u001b[0m \u001b[43m        \u001b[49m\u001b[43m)\u001b[49m\n\u001b[0;32m    133\u001b[0m \u001b[43m        \u001b[49m\u001b[38;5;28;43;01mfor\u001b[39;49;00m\u001b[43m \u001b[49m\u001b[43ml\u001b[49m\u001b[43m \u001b[49m\u001b[38;5;129;43;01min\u001b[39;49;00m\u001b[43m \u001b[49m\u001b[43mlines\u001b[49m\n\u001b[0;32m    134\u001b[0m \u001b[43m    \u001b[49m\u001b[43m]\u001b[49m\n\u001b[0;32m    135\u001b[0m \u001b[38;5;28;01mexcept\u001b[39;00m ParsingError \u001b[38;5;28;01mas\u001b[39;00m e:\n",
      "File \u001b[1;32md:\\Code\\Python Code\\CT552\\CT552_vm\\Lib\\site-packages\\globox\\annotation.py:125\u001b[0m, in \u001b[0;36m<listcomp>\u001b[1;34m(.0)\u001b[0m\n\u001b[0;32m    123\u001b[0m \u001b[38;5;28;01mtry\u001b[39;00m:\n\u001b[0;32m    124\u001b[0m     boxes \u001b[38;5;241m=\u001b[39m [\n\u001b[1;32m--> 125\u001b[0m         \u001b[43mBoundingBox\u001b[49m\u001b[38;5;241;43m.\u001b[39;49m\u001b[43mfrom_txt\u001b[49m\u001b[43m(\u001b[49m\n\u001b[0;32m    126\u001b[0m \u001b[43m            \u001b[49m\u001b[43ml\u001b[49m\u001b[43m,\u001b[49m\n\u001b[0;32m    127\u001b[0m \u001b[43m            \u001b[49m\u001b[43mbox_format\u001b[49m\u001b[38;5;241;43m=\u001b[39;49m\u001b[43mbox_format\u001b[49m\u001b[43m,\u001b[49m\n\u001b[0;32m    128\u001b[0m \u001b[43m            \u001b[49m\u001b[43mrelative\u001b[49m\u001b[38;5;241;43m=\u001b[39;49m\u001b[43mrelative\u001b[49m\u001b[43m,\u001b[49m\n\u001b[0;32m    129\u001b[0m \u001b[43m            \u001b[49m\u001b[43mimage_size\u001b[49m\u001b[38;5;241;43m=\u001b[39;49m\u001b[43mimage_size\u001b[49m\u001b[43m,\u001b[49m\n\u001b[0;32m    130\u001b[0m \u001b[43m            \u001b[49m\u001b[43mseparator\u001b[49m\u001b[38;5;241;43m=\u001b[39;49m\u001b[43mseparator\u001b[49m\u001b[43m,\u001b[49m\n\u001b[0;32m    131\u001b[0m \u001b[43m            \u001b[49m\u001b[43mconf_last\u001b[49m\u001b[38;5;241;43m=\u001b[39;49m\u001b[43mconf_last\u001b[49m\u001b[43m,\u001b[49m\n\u001b[0;32m    132\u001b[0m \u001b[43m        \u001b[49m\u001b[43m)\u001b[49m\n\u001b[0;32m    133\u001b[0m         \u001b[38;5;28;01mfor\u001b[39;00m l \u001b[38;5;129;01min\u001b[39;00m lines\n\u001b[0;32m    134\u001b[0m     ]\n\u001b[0;32m    135\u001b[0m \u001b[38;5;28;01mexcept\u001b[39;00m ParsingError \u001b[38;5;28;01mas\u001b[39;00m e:\n",
      "File \u001b[1;32md:\\Code\\Python Code\\CT552\\CT552_vm\\Lib\\site-packages\\globox\\boundingbox.py:359\u001b[0m, in \u001b[0;36mBoundingBox.from_txt\u001b[1;34m(string, box_format, relative, image_size, separator, conf_last)\u001b[0m\n\u001b[0;32m    358\u001b[0m \u001b[38;5;28;01mexcept\u001b[39;00m \u001b[38;5;167;01mValueError\u001b[39;00m:\n\u001b[1;32m--> 359\u001b[0m     \u001b[38;5;28;01mraise\u001b[39;00m ParsingError(\u001b[38;5;124m\"\u001b[39m\u001b[38;5;124mSyntax error in txt annotation file.\u001b[39m\u001b[38;5;124m\"\u001b[39m)\n\u001b[0;32m    361\u001b[0m \u001b[38;5;28;01mreturn\u001b[39;00m BoundingBox\u001b[38;5;241m.\u001b[39mcreate(\n\u001b[0;32m    362\u001b[0m     label\u001b[38;5;241m=\u001b[39mlabel,\n\u001b[0;32m    363\u001b[0m     coords\u001b[38;5;241m=\u001b[39mcoords,\n\u001b[1;32m   (...)\u001b[0m\n\u001b[0;32m    367\u001b[0m     image_size\u001b[38;5;241m=\u001b[39mimage_size,\n\u001b[0;32m    368\u001b[0m )\n",
      "\u001b[1;31mParsingError\u001b[0m: Syntax error in txt annotation file.",
      "\nDuring handling of the above exception, another exception occurred:\n",
      "\u001b[1;31mFileParsingError\u001b[0m                          Traceback (most recent call last)",
      "Cell \u001b[1;32mIn[5], line 15\u001b[0m\n\u001b[0;32m     11\u001b[0m     annotations\u001b[38;5;241m.\u001b[39msave_coco(save_file)\n\u001b[0;32m     14\u001b[0m \u001b[38;5;28;01mif\u001b[39;00m \u001b[38;5;18m__name__\u001b[39m \u001b[38;5;241m==\u001b[39m \u001b[38;5;124m\"\u001b[39m\u001b[38;5;124m__main__\u001b[39m\u001b[38;5;124m\"\u001b[39m:\n\u001b[1;32m---> 15\u001b[0m     \u001b[43mmain\u001b[49m\u001b[43m(\u001b[49m\u001b[43m)\u001b[49m\n",
      "Cell \u001b[1;32mIn[5], line 10\u001b[0m, in \u001b[0;36mmain\u001b[1;34m()\u001b[0m\n\u001b[0;32m      7\u001b[0m path \u001b[38;5;241m=\u001b[39m Path(\u001b[38;5;124m\"\u001b[39m\u001b[38;5;124m./labels\u001b[39m\u001b[38;5;124m\"\u001b[39m)  \u001b[38;5;66;03m# Where the .txt files are\u001b[39;00m\n\u001b[0;32m      8\u001b[0m save_file \u001b[38;5;241m=\u001b[39m Path(\u001b[38;5;124m\"\u001b[39m\u001b[38;5;124m./coco.json\u001b[39m\u001b[38;5;124m\"\u001b[39m)\n\u001b[1;32m---> 10\u001b[0m annotations \u001b[38;5;241m=\u001b[39m \u001b[43mglobox\u001b[49m\u001b[38;5;241;43m.\u001b[39;49m\u001b[43mAnnotationSet\u001b[49m\u001b[38;5;241;43m.\u001b[39;49m\u001b[43mfrom_yolo\u001b[49m\u001b[43m(\u001b[49m\u001b[43mpath\u001b[49m\u001b[43m,\u001b[49m\u001b[43m \u001b[49m\u001b[43mimage_folder\u001b[49m\u001b[38;5;241;43m=\u001b[39;49m\u001b[38;5;124;43m\"\u001b[39;49m\u001b[38;5;124;43m./preprocessed_img\u001b[39;49m\u001b[38;5;124;43m\"\u001b[39;49m\u001b[43m)\u001b[49m\n\u001b[0;32m     11\u001b[0m annotations\u001b[38;5;241m.\u001b[39msave_coco(save_file)\n",
      "File \u001b[1;32md:\\Code\\Python Code\\CT552\\CT552_vm\\Lib\\site-packages\\globox\\annotationset.py:310\u001b[0m, in \u001b[0;36mAnnotationSet.from_yolo\u001b[1;34m(folder, image_folder, image_extension, conf_last, verbose)\u001b[0m\n\u001b[0;32m    295\u001b[0m \u001b[38;5;129m@staticmethod\u001b[39m\n\u001b[0;32m    296\u001b[0m \u001b[38;5;28;01mdef\u001b[39;00m \u001b[38;5;21mfrom_yolo\u001b[39m(\n\u001b[0;32m    297\u001b[0m     folder: PathLike,\n\u001b[1;32m   (...)\u001b[0m\n\u001b[0;32m    302\u001b[0m     verbose: \u001b[38;5;28mbool\u001b[39m \u001b[38;5;241m=\u001b[39m \u001b[38;5;28;01mFalse\u001b[39;00m,\n\u001b[0;32m    303\u001b[0m ) \u001b[38;5;241m-\u001b[39m\u001b[38;5;241m>\u001b[39m \u001b[38;5;124m\"\u001b[39m\u001b[38;5;124mAnnotationSet\u001b[39m\u001b[38;5;124m\"\u001b[39m:\n\u001b[0;32m    304\u001b[0m     warn(\n\u001b[0;32m    305\u001b[0m         \u001b[38;5;124m\"\u001b[39m\u001b[38;5;124m'\u001b[39m\u001b[38;5;124mfrom_yolo\u001b[39m\u001b[38;5;124m'\u001b[39m\u001b[38;5;124m is deprecated. Please use `from_yolo_darknet` or `from_yolo_v5`\u001b[39m\u001b[38;5;124m\"\u001b[39m,\n\u001b[0;32m    306\u001b[0m         category\u001b[38;5;241m=\u001b[39m\u001b[38;5;167;01mDeprecationWarning\u001b[39;00m,\n\u001b[0;32m    307\u001b[0m         stacklevel\u001b[38;5;241m=\u001b[39m\u001b[38;5;241m2\u001b[39m,\n\u001b[0;32m    308\u001b[0m     )\n\u001b[1;32m--> 310\u001b[0m     \u001b[38;5;28;01mreturn\u001b[39;00m \u001b[43mAnnotationSet\u001b[49m\u001b[38;5;241;43m.\u001b[39;49m\u001b[43m_from_yolo\u001b[49m\u001b[43m(\u001b[49m\n\u001b[0;32m    311\u001b[0m \u001b[43m        \u001b[49m\u001b[43mfolder\u001b[49m\u001b[43m,\u001b[49m\n\u001b[0;32m    312\u001b[0m \u001b[43m        \u001b[49m\u001b[43mimage_folder\u001b[49m\u001b[38;5;241;43m=\u001b[39;49m\u001b[43mimage_folder\u001b[49m\u001b[43m,\u001b[49m\n\u001b[0;32m    313\u001b[0m \u001b[43m        \u001b[49m\u001b[43mimage_extension\u001b[49m\u001b[38;5;241;43m=\u001b[39;49m\u001b[43mimage_extension\u001b[49m\u001b[43m,\u001b[49m\n\u001b[0;32m    314\u001b[0m \u001b[43m        \u001b[49m\u001b[43mconf_last\u001b[49m\u001b[38;5;241;43m=\u001b[39;49m\u001b[43mconf_last\u001b[49m\u001b[43m,\u001b[49m\n\u001b[0;32m    315\u001b[0m \u001b[43m        \u001b[49m\u001b[43mverbose\u001b[49m\u001b[38;5;241;43m=\u001b[39;49m\u001b[43mverbose\u001b[49m\u001b[43m,\u001b[49m\n\u001b[0;32m    316\u001b[0m \u001b[43m    \u001b[49m\u001b[43m)\u001b[49m\n",
      "File \u001b[1;32md:\\Code\\Python Code\\CT552\\CT552_vm\\Lib\\site-packages\\globox\\annotationset.py:284\u001b[0m, in \u001b[0;36mAnnotationSet._from_yolo\u001b[1;34m(folder, image_folder, image_extension, conf_last, verbose)\u001b[0m\n\u001b[0;32m    275\u001b[0m \u001b[38;5;129m@staticmethod\u001b[39m\n\u001b[0;32m    276\u001b[0m \u001b[38;5;28;01mdef\u001b[39;00m \u001b[38;5;21m_from_yolo\u001b[39m(\n\u001b[0;32m    277\u001b[0m     folder: PathLike,\n\u001b[1;32m   (...)\u001b[0m\n\u001b[0;32m    282\u001b[0m     verbose: \u001b[38;5;28mbool\u001b[39m \u001b[38;5;241m=\u001b[39m \u001b[38;5;28;01mFalse\u001b[39;00m,\n\u001b[0;32m    283\u001b[0m ) \u001b[38;5;241m-\u001b[39m\u001b[38;5;241m>\u001b[39m \u001b[38;5;124m\"\u001b[39m\u001b[38;5;124mAnnotationSet\u001b[39m\u001b[38;5;124m\"\u001b[39m:\n\u001b[1;32m--> 284\u001b[0m     \u001b[38;5;28;01mreturn\u001b[39;00m \u001b[43mAnnotationSet\u001b[49m\u001b[38;5;241;43m.\u001b[39;49m\u001b[43mfrom_txt\u001b[49m\u001b[43m(\u001b[49m\n\u001b[0;32m    285\u001b[0m \u001b[43m        \u001b[49m\u001b[43mfolder\u001b[49m\u001b[43m,\u001b[49m\n\u001b[0;32m    286\u001b[0m \u001b[43m        \u001b[49m\u001b[43mimage_folder\u001b[49m\u001b[38;5;241;43m=\u001b[39;49m\u001b[43mimage_folder\u001b[49m\u001b[43m,\u001b[49m\n\u001b[0;32m    287\u001b[0m \u001b[43m        \u001b[49m\u001b[43mbox_format\u001b[49m\u001b[38;5;241;43m=\u001b[39;49m\u001b[43mBoxFormat\u001b[49m\u001b[38;5;241;43m.\u001b[39;49m\u001b[43mXYWH\u001b[49m\u001b[43m,\u001b[49m\n\u001b[0;32m    288\u001b[0m \u001b[43m        \u001b[49m\u001b[43mrelative\u001b[49m\u001b[38;5;241;43m=\u001b[39;49m\u001b[38;5;28;43;01mTrue\u001b[39;49;00m\u001b[43m,\u001b[49m\n\u001b[0;32m    289\u001b[0m \u001b[43m        \u001b[49m\u001b[43mimage_extension\u001b[49m\u001b[38;5;241;43m=\u001b[39;49m\u001b[43mimage_extension\u001b[49m\u001b[43m,\u001b[49m\n\u001b[0;32m    290\u001b[0m \u001b[43m        \u001b[49m\u001b[43mseparator\u001b[49m\u001b[38;5;241;43m=\u001b[39;49m\u001b[38;5;28;43;01mNone\u001b[39;49;00m\u001b[43m,\u001b[49m\n\u001b[0;32m    291\u001b[0m \u001b[43m        \u001b[49m\u001b[43mconf_last\u001b[49m\u001b[38;5;241;43m=\u001b[39;49m\u001b[43mconf_last\u001b[49m\u001b[43m,\u001b[49m\n\u001b[0;32m    292\u001b[0m \u001b[43m        \u001b[49m\u001b[43mverbose\u001b[49m\u001b[38;5;241;43m=\u001b[39;49m\u001b[43mverbose\u001b[49m\u001b[43m,\u001b[49m\n\u001b[0;32m    293\u001b[0m \u001b[43m    \u001b[49m\u001b[43m)\u001b[49m\n",
      "File \u001b[1;32md:\\Code\\Python Code\\CT552\\CT552_vm\\Lib\\site-packages\\globox\\annotationset.py:268\u001b[0m, in \u001b[0;36mAnnotationSet.from_txt\u001b[1;34m(folder, image_folder, box_format, relative, file_extension, image_extension, separator, conf_last, verbose)\u001b[0m\n\u001b[0;32m    256\u001b[0m         image_id \u001b[38;5;241m=\u001b[39m image_id \u001b[38;5;241m=\u001b[39m file\u001b[38;5;241m.\u001b[39mwith_suffix(image_extension)\u001b[38;5;241m.\u001b[39mname\n\u001b[0;32m    258\u001b[0m     \u001b[38;5;28;01mreturn\u001b[39;00m Annotation\u001b[38;5;241m.\u001b[39mfrom_txt(\n\u001b[0;32m    259\u001b[0m         file_path\u001b[38;5;241m=\u001b[39mfile,\n\u001b[0;32m    260\u001b[0m         image_id\u001b[38;5;241m=\u001b[39mimage_id,\n\u001b[1;32m   (...)\u001b[0m\n\u001b[0;32m    265\u001b[0m         conf_last\u001b[38;5;241m=\u001b[39mconf_last,\n\u001b[0;32m    266\u001b[0m     )\n\u001b[1;32m--> 268\u001b[0m \u001b[38;5;28;01mreturn\u001b[39;00m \u001b[43mAnnotationSet\u001b[49m\u001b[38;5;241;43m.\u001b[39;49m\u001b[43mfrom_folder\u001b[49m\u001b[43m(\u001b[49m\n\u001b[0;32m    269\u001b[0m \u001b[43m    \u001b[49m\u001b[43mfolder\u001b[49m\u001b[43m,\u001b[49m\n\u001b[0;32m    270\u001b[0m \u001b[43m    \u001b[49m\u001b[43mextension\u001b[49m\u001b[38;5;241;43m=\u001b[39;49m\u001b[43mfile_extension\u001b[49m\u001b[43m,\u001b[49m\n\u001b[0;32m    271\u001b[0m \u001b[43m    \u001b[49m\u001b[43mparser\u001b[49m\u001b[38;5;241;43m=\u001b[39;49m\u001b[43m_get_annotation\u001b[49m\u001b[43m,\u001b[49m\n\u001b[0;32m    272\u001b[0m \u001b[43m    \u001b[49m\u001b[43mverbose\u001b[49m\u001b[38;5;241;43m=\u001b[39;49m\u001b[43mverbose\u001b[49m\u001b[43m,\u001b[49m\n\u001b[0;32m    273\u001b[0m \u001b[43m\u001b[49m\u001b[43m)\u001b[49m\n",
      "File \u001b[1;32md:\\Code\\Python Code\\CT552\\CT552_vm\\Lib\\site-packages\\globox\\annotationset.py:196\u001b[0m, in \u001b[0;36mAnnotationSet.from_folder\u001b[1;34m(folder, extension, parser, recursive, verbose)\u001b[0m\n\u001b[0;32m    191\u001b[0m \u001b[38;5;28;01massert\u001b[39;00m (\n\u001b[0;32m    192\u001b[0m     folder\u001b[38;5;241m.\u001b[39mis_dir()\n\u001b[0;32m    193\u001b[0m ), \u001b[38;5;124mf\u001b[39m\u001b[38;5;124m\"\u001b[39m\u001b[38;5;124mFilepath \u001b[39m\u001b[38;5;124m'\u001b[39m\u001b[38;5;132;01m{\u001b[39;00mfolder\u001b[38;5;132;01m}\u001b[39;00m\u001b[38;5;124m'\u001b[39m\u001b[38;5;124m is not a folder or does not exist.\u001b[39m\u001b[38;5;124m\"\u001b[39m\n\u001b[0;32m    195\u001b[0m files \u001b[38;5;241m=\u001b[39m \u001b[38;5;28mlist\u001b[39m(glob(folder, extension, recursive\u001b[38;5;241m=\u001b[39mrecursive))\n\u001b[1;32m--> 196\u001b[0m \u001b[38;5;28;01mreturn\u001b[39;00m \u001b[43mAnnotationSet\u001b[49m\u001b[38;5;241;43m.\u001b[39;49m\u001b[43mfrom_iter\u001b[49m\u001b[43m(\u001b[49m\u001b[43mparser\u001b[49m\u001b[43m,\u001b[49m\u001b[43m \u001b[49m\u001b[43mfiles\u001b[49m\u001b[43m,\u001b[49m\u001b[43m \u001b[49m\u001b[43mverbose\u001b[49m\u001b[38;5;241;43m=\u001b[39;49m\u001b[43mverbose\u001b[49m\u001b[43m)\u001b[49m\n",
      "File \u001b[1;32md:\\Code\\Python Code\\CT552\\CT552_vm\\Lib\\site-packages\\globox\\annotationset.py:177\u001b[0m, in \u001b[0;36mAnnotationSet.from_iter\u001b[1;34m(parser, iterable, verbose)\u001b[0m\n\u001b[0;32m    170\u001b[0m \u001b[38;5;129m@staticmethod\u001b[39m\n\u001b[0;32m    171\u001b[0m \u001b[38;5;28;01mdef\u001b[39;00m \u001b[38;5;21mfrom_iter\u001b[39m(\n\u001b[0;32m    172\u001b[0m     parser: Callable[[T], Annotation],\n\u001b[1;32m   (...)\u001b[0m\n\u001b[0;32m    175\u001b[0m     verbose: \u001b[38;5;28mbool\u001b[39m \u001b[38;5;241m=\u001b[39m \u001b[38;5;28;01mFalse\u001b[39;00m,\n\u001b[0;32m    176\u001b[0m ) \u001b[38;5;241m-\u001b[39m\u001b[38;5;241m>\u001b[39m \u001b[38;5;124m\"\u001b[39m\u001b[38;5;124mAnnotationSet\u001b[39m\u001b[38;5;124m\"\u001b[39m:\n\u001b[1;32m--> 177\u001b[0m     annotations \u001b[38;5;241m=\u001b[39m \u001b[43mthread_map\u001b[49m\u001b[43m(\u001b[49m\u001b[43mparser\u001b[49m\u001b[43m,\u001b[49m\u001b[43m \u001b[49m\u001b[43miterable\u001b[49m\u001b[43m,\u001b[49m\u001b[43m \u001b[49m\u001b[43mdesc\u001b[49m\u001b[38;5;241;43m=\u001b[39;49m\u001b[38;5;124;43m\"\u001b[39;49m\u001b[38;5;124;43mParsing\u001b[39;49m\u001b[38;5;124;43m\"\u001b[39;49m\u001b[43m,\u001b[49m\u001b[43m \u001b[49m\u001b[43mverbose\u001b[49m\u001b[38;5;241;43m=\u001b[39;49m\u001b[43mverbose\u001b[49m\u001b[43m)\u001b[49m\n\u001b[0;32m    178\u001b[0m     \u001b[38;5;28;01mreturn\u001b[39;00m AnnotationSet(annotations)\n",
      "File \u001b[1;32md:\\Code\\Python Code\\CT552\\CT552_vm\\Lib\\site-packages\\globox\\thread_utils.py:35\u001b[0m, in \u001b[0;36mthread_map\u001b[1;34m(fn, it, desc, total, unit, verbose)\u001b[0m\n\u001b[0;32m     33\u001b[0m \u001b[38;5;28;01mwith\u001b[39;00m tqdm(desc\u001b[38;5;241m=\u001b[39mdesc, total\u001b[38;5;241m=\u001b[39mtotal, unit\u001b[38;5;241m=\u001b[39munit, disable\u001b[38;5;241m=\u001b[39mdisable) \u001b[38;5;28;01mas\u001b[39;00m pbar:\n\u001b[0;32m     34\u001b[0m     futures \u001b[38;5;241m=\u001b[39m SHARED_THREAD_POOL\u001b[38;5;241m.\u001b[39mmap(fn, it)\n\u001b[1;32m---> 35\u001b[0m \u001b[43m    \u001b[49m\u001b[38;5;28;43;01mfor\u001b[39;49;00m\u001b[43m \u001b[49m\u001b[43mresult\u001b[49m\u001b[43m \u001b[49m\u001b[38;5;129;43;01min\u001b[39;49;00m\u001b[43m \u001b[49m\u001b[43mfutures\u001b[49m\u001b[43m:\u001b[49m\n\u001b[0;32m     36\u001b[0m \u001b[43m        \u001b[49m\u001b[43mresults\u001b[49m\u001b[38;5;241;43m.\u001b[39;49m\u001b[43mappend\u001b[49m\u001b[43m(\u001b[49m\u001b[43mresult\u001b[49m\u001b[43m)\u001b[49m\n\u001b[0;32m     37\u001b[0m \u001b[43m        \u001b[49m\u001b[43mpbar\u001b[49m\u001b[38;5;241;43m.\u001b[39;49m\u001b[43mupdate\u001b[49m\u001b[43m(\u001b[49m\u001b[43m)\u001b[49m\n",
      "File \u001b[1;32mC:\\Program Files\\WindowsApps\\PythonSoftwareFoundation.Python.3.11_3.11.2544.0_x64__qbz5n2kfra8p0\\Lib\\concurrent\\futures\\_base.py:619\u001b[0m, in \u001b[0;36mExecutor.map.<locals>.result_iterator\u001b[1;34m()\u001b[0m\n\u001b[0;32m    616\u001b[0m \u001b[38;5;28;01mwhile\u001b[39;00m fs:\n\u001b[0;32m    617\u001b[0m     \u001b[38;5;66;03m# Careful not to keep a reference to the popped future\u001b[39;00m\n\u001b[0;32m    618\u001b[0m     \u001b[38;5;28;01mif\u001b[39;00m timeout \u001b[38;5;129;01mis\u001b[39;00m \u001b[38;5;28;01mNone\u001b[39;00m:\n\u001b[1;32m--> 619\u001b[0m         \u001b[38;5;28;01myield\u001b[39;00m \u001b[43m_result_or_cancel\u001b[49m\u001b[43m(\u001b[49m\u001b[43mfs\u001b[49m\u001b[38;5;241;43m.\u001b[39;49m\u001b[43mpop\u001b[49m\u001b[43m(\u001b[49m\u001b[43m)\u001b[49m\u001b[43m)\u001b[49m\n\u001b[0;32m    620\u001b[0m     \u001b[38;5;28;01melse\u001b[39;00m:\n\u001b[0;32m    621\u001b[0m         \u001b[38;5;28;01myield\u001b[39;00m _result_or_cancel(fs\u001b[38;5;241m.\u001b[39mpop(), end_time \u001b[38;5;241m-\u001b[39m time\u001b[38;5;241m.\u001b[39mmonotonic())\n",
      "File \u001b[1;32mC:\\Program Files\\WindowsApps\\PythonSoftwareFoundation.Python.3.11_3.11.2544.0_x64__qbz5n2kfra8p0\\Lib\\concurrent\\futures\\_base.py:317\u001b[0m, in \u001b[0;36m_result_or_cancel\u001b[1;34m(***failed resolving arguments***)\u001b[0m\n\u001b[0;32m    315\u001b[0m \u001b[38;5;28;01mtry\u001b[39;00m:\n\u001b[0;32m    316\u001b[0m     \u001b[38;5;28;01mtry\u001b[39;00m:\n\u001b[1;32m--> 317\u001b[0m         \u001b[38;5;28;01mreturn\u001b[39;00m \u001b[43mfut\u001b[49m\u001b[38;5;241;43m.\u001b[39;49m\u001b[43mresult\u001b[49m\u001b[43m(\u001b[49m\u001b[43mtimeout\u001b[49m\u001b[43m)\u001b[49m\n\u001b[0;32m    318\u001b[0m     \u001b[38;5;28;01mfinally\u001b[39;00m:\n\u001b[0;32m    319\u001b[0m         fut\u001b[38;5;241m.\u001b[39mcancel()\n",
      "File \u001b[1;32mC:\\Program Files\\WindowsApps\\PythonSoftwareFoundation.Python.3.11_3.11.2544.0_x64__qbz5n2kfra8p0\\Lib\\concurrent\\futures\\_base.py:456\u001b[0m, in \u001b[0;36mFuture.result\u001b[1;34m(self, timeout)\u001b[0m\n\u001b[0;32m    454\u001b[0m     \u001b[38;5;28;01mraise\u001b[39;00m CancelledError()\n\u001b[0;32m    455\u001b[0m \u001b[38;5;28;01melif\u001b[39;00m \u001b[38;5;28mself\u001b[39m\u001b[38;5;241m.\u001b[39m_state \u001b[38;5;241m==\u001b[39m FINISHED:\n\u001b[1;32m--> 456\u001b[0m     \u001b[38;5;28;01mreturn\u001b[39;00m \u001b[38;5;28;43mself\u001b[39;49m\u001b[38;5;241;43m.\u001b[39;49m\u001b[43m__get_result\u001b[49m\u001b[43m(\u001b[49m\u001b[43m)\u001b[49m\n\u001b[0;32m    457\u001b[0m \u001b[38;5;28;01melse\u001b[39;00m:\n\u001b[0;32m    458\u001b[0m     \u001b[38;5;28;01mraise\u001b[39;00m \u001b[38;5;167;01mTimeoutError\u001b[39;00m()\n",
      "File \u001b[1;32mC:\\Program Files\\WindowsApps\\PythonSoftwareFoundation.Python.3.11_3.11.2544.0_x64__qbz5n2kfra8p0\\Lib\\concurrent\\futures\\_base.py:401\u001b[0m, in \u001b[0;36mFuture.__get_result\u001b[1;34m(self)\u001b[0m\n\u001b[0;32m    399\u001b[0m \u001b[38;5;28;01mif\u001b[39;00m \u001b[38;5;28mself\u001b[39m\u001b[38;5;241m.\u001b[39m_exception:\n\u001b[0;32m    400\u001b[0m     \u001b[38;5;28;01mtry\u001b[39;00m:\n\u001b[1;32m--> 401\u001b[0m         \u001b[38;5;28;01mraise\u001b[39;00m \u001b[38;5;28mself\u001b[39m\u001b[38;5;241m.\u001b[39m_exception\n\u001b[0;32m    402\u001b[0m     \u001b[38;5;28;01mfinally\u001b[39;00m:\n\u001b[0;32m    403\u001b[0m         \u001b[38;5;66;03m# Break a reference cycle with the exception in self._exception\u001b[39;00m\n\u001b[0;32m    404\u001b[0m         \u001b[38;5;28mself\u001b[39m \u001b[38;5;241m=\u001b[39m \u001b[38;5;28;01mNone\u001b[39;00m\n",
      "File \u001b[1;32mC:\\Program Files\\WindowsApps\\PythonSoftwareFoundation.Python.3.11_3.11.2544.0_x64__qbz5n2kfra8p0\\Lib\\concurrent\\futures\\thread.py:58\u001b[0m, in \u001b[0;36m_WorkItem.run\u001b[1;34m(self)\u001b[0m\n\u001b[0;32m     55\u001b[0m     \u001b[38;5;28;01mreturn\u001b[39;00m\n\u001b[0;32m     57\u001b[0m \u001b[38;5;28;01mtry\u001b[39;00m:\n\u001b[1;32m---> 58\u001b[0m     result \u001b[38;5;241m=\u001b[39m \u001b[38;5;28;43mself\u001b[39;49m\u001b[38;5;241;43m.\u001b[39;49m\u001b[43mfn\u001b[49m\u001b[43m(\u001b[49m\u001b[38;5;241;43m*\u001b[39;49m\u001b[38;5;28;43mself\u001b[39;49m\u001b[38;5;241;43m.\u001b[39;49m\u001b[43margs\u001b[49m\u001b[43m,\u001b[49m\u001b[43m \u001b[49m\u001b[38;5;241;43m*\u001b[39;49m\u001b[38;5;241;43m*\u001b[39;49m\u001b[38;5;28;43mself\u001b[39;49m\u001b[38;5;241;43m.\u001b[39;49m\u001b[43mkwargs\u001b[49m\u001b[43m)\u001b[49m\n\u001b[0;32m     59\u001b[0m \u001b[38;5;28;01mexcept\u001b[39;00m \u001b[38;5;167;01mBaseException\u001b[39;00m \u001b[38;5;28;01mas\u001b[39;00m exc:\n\u001b[0;32m     60\u001b[0m     \u001b[38;5;28mself\u001b[39m\u001b[38;5;241m.\u001b[39mfuture\u001b[38;5;241m.\u001b[39mset_exception(exc)\n",
      "File \u001b[1;32md:\\Code\\Python Code\\CT552\\CT552_vm\\Lib\\site-packages\\globox\\annotationset.py:258\u001b[0m, in \u001b[0;36mAnnotationSet.from_txt.<locals>._get_annotation\u001b[1;34m(file)\u001b[0m\n\u001b[0;32m    255\u001b[0m     image_size \u001b[38;5;241m=\u001b[39m \u001b[38;5;28;01mNone\u001b[39;00m\n\u001b[0;32m    256\u001b[0m     image_id \u001b[38;5;241m=\u001b[39m image_id \u001b[38;5;241m=\u001b[39m file\u001b[38;5;241m.\u001b[39mwith_suffix(image_extension)\u001b[38;5;241m.\u001b[39mname\n\u001b[1;32m--> 258\u001b[0m \u001b[38;5;28;01mreturn\u001b[39;00m \u001b[43mAnnotation\u001b[49m\u001b[38;5;241;43m.\u001b[39;49m\u001b[43mfrom_txt\u001b[49m\u001b[43m(\u001b[49m\n\u001b[0;32m    259\u001b[0m \u001b[43m    \u001b[49m\u001b[43mfile_path\u001b[49m\u001b[38;5;241;43m=\u001b[39;49m\u001b[43mfile\u001b[49m\u001b[43m,\u001b[49m\n\u001b[0;32m    260\u001b[0m \u001b[43m    \u001b[49m\u001b[43mimage_id\u001b[49m\u001b[38;5;241;43m=\u001b[39;49m\u001b[43mimage_id\u001b[49m\u001b[43m,\u001b[49m\n\u001b[0;32m    261\u001b[0m \u001b[43m    \u001b[49m\u001b[43mbox_format\u001b[49m\u001b[38;5;241;43m=\u001b[39;49m\u001b[43mbox_format\u001b[49m\u001b[43m,\u001b[49m\n\u001b[0;32m    262\u001b[0m \u001b[43m    \u001b[49m\u001b[43mrelative\u001b[49m\u001b[38;5;241;43m=\u001b[39;49m\u001b[43mrelative\u001b[49m\u001b[43m,\u001b[49m\n\u001b[0;32m    263\u001b[0m \u001b[43m    \u001b[49m\u001b[43mimage_size\u001b[49m\u001b[38;5;241;43m=\u001b[39;49m\u001b[43mimage_size\u001b[49m\u001b[43m,\u001b[49m\n\u001b[0;32m    264\u001b[0m \u001b[43m    \u001b[49m\u001b[43mseparator\u001b[49m\u001b[38;5;241;43m=\u001b[39;49m\u001b[43mseparator\u001b[49m\u001b[43m,\u001b[49m\n\u001b[0;32m    265\u001b[0m \u001b[43m    \u001b[49m\u001b[43mconf_last\u001b[49m\u001b[38;5;241;43m=\u001b[39;49m\u001b[43mconf_last\u001b[49m\u001b[43m,\u001b[49m\n\u001b[0;32m    266\u001b[0m \u001b[43m\u001b[49m\u001b[43m)\u001b[49m\n",
      "File \u001b[1;32md:\\Code\\Python Code\\CT552\\CT552_vm\\Lib\\site-packages\\globox\\annotation.py:136\u001b[0m, in \u001b[0;36mAnnotation.from_txt\u001b[1;34m(file_path, image_id, image_extension, box_format, relative, image_size, separator, conf_last)\u001b[0m\n\u001b[0;32m    124\u001b[0m     boxes \u001b[38;5;241m=\u001b[39m [\n\u001b[0;32m    125\u001b[0m         BoundingBox\u001b[38;5;241m.\u001b[39mfrom_txt(\n\u001b[0;32m    126\u001b[0m             l,\n\u001b[1;32m   (...)\u001b[0m\n\u001b[0;32m    133\u001b[0m         \u001b[38;5;28;01mfor\u001b[39;00m l \u001b[38;5;129;01min\u001b[39;00m lines\n\u001b[0;32m    134\u001b[0m     ]\n\u001b[0;32m    135\u001b[0m \u001b[38;5;28;01mexcept\u001b[39;00m ParsingError \u001b[38;5;28;01mas\u001b[39;00m e:\n\u001b[1;32m--> 136\u001b[0m     \u001b[38;5;28;01mraise\u001b[39;00m FileParsingError(path, e\u001b[38;5;241m.\u001b[39mreason)\n\u001b[0;32m    138\u001b[0m \u001b[38;5;28;01mreturn\u001b[39;00m Annotation(image_id, image_size, boxes)\n",
      "\u001b[1;31mFileParsingError\u001b[0m: Error while reading file 'D:\\Code\\Python Code\\CT552\\labels\\1.3.6.1.4.1.14519.5.2.1.6279.6001.100225287222365663678666836860_0_0.txt': Syntax error in txt annotation file."
     ]
    }
   ],
   "source": [
    "from pathlib import Path\n",
    "\n",
    "import globox\n",
    "\n",
    "\n",
    "def main() -> None:\n",
    "    path = Path(\"./labels\")  # Where the .txt files are\n",
    "    save_file = Path(\"./coco.json\")\n",
    "\n",
    "    annotations = globox.AnnotationSet.from_yolo(path, image_folder=\"./preprocessed_img\")\n",
    "    annotations.save_coco(save_file)\n",
    "\n",
    "\n",
    "if __name__ == \"__main__\":\n",
    "    main()"
   ]
  }
 ],
 "metadata": {
  "kernelspec": {
   "display_name": "CT552_vm",
   "language": "python",
   "name": "python3"
  },
  "language_info": {
   "codemirror_mode": {
    "name": "ipython",
    "version": 3
   },
   "file_extension": ".py",
   "mimetype": "text/x-python",
   "name": "python",
   "nbconvert_exporter": "python",
   "pygments_lexer": "ipython3",
   "version": "3.11.9"
  }
 },
 "nbformat": 4,
 "nbformat_minor": 2
}
